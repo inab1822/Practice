{
 "cells": [
  {
   "cell_type": "code",
   "execution_count": 142,
   "id": "e5aeafbd-6487-4516-a811-0d7d079a9743",
   "metadata": {},
   "outputs": [],
   "source": [
    "# MNIST데이터 셋을 사용 한다.\n",
    "# 미국 고등학생과 인구조사국 직원들이 손으로 쓴\n",
    "# 70000개의 작은 숫자 이미지"
   ]
  },
  {
   "cell_type": "code",
   "execution_count": 143,
   "id": "15028126-f325-4027-9e2a-16eb1e04528e",
   "metadata": {},
   "outputs": [
    {
     "name": "stderr",
     "output_type": "stream",
     "text": [
      "C:\\Users\\502\\miniconda3\\lib\\site-packages\\sklearn\\datasets\\_openml.py:932: FutureWarning: The default value of `parser` will change from `'liac-arff'` to `'auto'` in 1.4. You can set `parser='auto'` to silence this warning. Therefore, an `ImportError` will be raised from 1.4 if the dataset is dense and pandas is not installed. Note that the pandas parser may return different data types. See the Notes Section in fetch_openml's API doc for details.\n",
      "  warn(\n"
     ]
    },
    {
     "data": {
      "text/plain": [
       "dict_keys(['data', 'target', 'frame', 'categories', 'feature_names', 'target_names', 'DESCR', 'details', 'url'])"
      ]
     },
     "execution_count": 143,
     "metadata": {},
     "output_type": "execute_result"
    }
   ],
   "source": [
    "from sklearn.datasets import fetch_openml\n",
    "# 딕셔너리 구조와 비슷\n",
    "# 데이터셋을 분리할 때 섞어져 있는 데이터셋을 가져오고싶다\n",
    "# mnist_784는 이미 섞어져 있는 데이터셋 이기에 코드로 다시 섞을 필요가 없다.\n",
    "mnist = fetch_openml('mnist_784',version=1,as_frame=False)\n",
    "mnist.keys()"
   ]
  },
  {
   "cell_type": "code",
   "execution_count": 144,
   "id": "549fa02b-1094-4096-8200-7bfc95ab7aa6",
   "metadata": {},
   "outputs": [
    {
     "data": {
      "text/plain": [
       "(70000, 784)"
      ]
     },
     "execution_count": 144,
     "metadata": {},
     "output_type": "execute_result"
    }
   ],
   "source": [
    "# 28 * 28 픽셀 이미지 784[0~783]\n",
    "# 0~225, 흑백이미지 \n",
    "x,y = mnist['data'],mnist['target']\n",
    "x.shape"
   ]
  },
  {
   "cell_type": "code",
   "execution_count": 145,
   "id": "132287aa-b32b-4e00-b9b9-b8fe52fc2e49",
   "metadata": {},
   "outputs": [
    {
     "data": {
      "text/plain": [
       "array(['5',\n",
       "       '0',\n",
       "       '4',\n",
       "       ...,\n",
       "       '4',\n",
       "       '5',\n",
       "       '6'],\n",
       "      dtype=object)"
      ]
     },
     "execution_count": 145,
     "metadata": {},
     "output_type": "execute_result"
    }
   ],
   "source": [
    "y"
   ]
  },
  {
   "cell_type": "code",
   "execution_count": 146,
   "id": "60139691-d0b0-4fee-9ca7-80a42078e314",
   "metadata": {},
   "outputs": [
    {
     "data": {
      "text/plain": [
       "(70000,)"
      ]
     },
     "execution_count": 146,
     "metadata": {},
     "output_type": "execute_result"
    }
   ],
   "source": [
    "y.shape"
   ]
  },
  {
   "cell_type": "code",
   "execution_count": 147,
   "id": "5c232089-13cd-4084-b787-3f73a31ee784",
   "metadata": {},
   "outputs": [
    {
     "data": {
      "text/plain": [
       "70000"
      ]
     },
     "execution_count": 147,
     "metadata": {},
     "output_type": "execute_result"
    }
   ],
   "source": [
    "len(y)"
   ]
  },
  {
   "cell_type": "code",
   "execution_count": 160,
   "id": "aec38260-8133-4847-ac11-fbd315f78f20",
   "metadata": {},
   "outputs": [
    {
     "data": {
      "text/plain": [
       "(60000, 784)"
      ]
     },
     "execution_count": 160,
     "metadata": {},
     "output_type": "execute_result"
    }
   ],
   "source": [
    "# 훈련세트와 테스트 세트로 나누기\n",
    "x_train, x_test, y_train, y_test = x[:60000], x[60000:], y[:60000],y[60000:]\n",
    "x_train.shape"
   ]
  },
  {
   "cell_type": "code",
   "execution_count": 161,
   "id": "a0385ebf-794a-4a17-8432-0bc9b4e2ad70",
   "metadata": {},
   "outputs": [],
   "source": [
    "# 타이타닉 1,0\n",
    "# 이진 분류기 훈련\n",
    "# 5와 5가 아니다 두 개의 클래스를 구분할 수 있는 이진분류 훈련"
   ]
  },
  {
   "cell_type": "code",
   "execution_count": 162,
   "id": "283657b6-70ce-4c16-94ee-dcb019773378",
   "metadata": {
    "tags": []
   },
   "outputs": [
    {
     "data": {
      "text/plain": [
       "array([ True,\n",
       "       False,\n",
       "       False,\n",
       "       ...,\n",
       "        True,\n",
       "       False,\n",
       "       False])"
      ]
     },
     "execution_count": 162,
     "metadata": {},
     "output_type": "execute_result"
    }
   ],
   "source": [
    "# 타겟(label)값을 변경\n",
    "# 5는 True, 다른 숫자는 false\n",
    "y_train_5 = (y_train==5)\n",
    "y_test_5 = (y_test==5)\n",
    "y_train_5"
   ]
  },
  {
   "cell_type": "code",
   "execution_count": 163,
   "id": "224c2d23-ca39-4fa4-a79c-3c1de2e05447",
   "metadata": {},
   "outputs": [],
   "source": [
    "# 사이킷런 SGDClassifier 클래스를 사용해 훈련\n",
    "# 확률적 경사 하강법 알고리즘\n",
    "# 분류 학습에 많이 쓴다.\n",
    "# 큰 데이터셋에 효율적으로 처리하는 장점"
   ]
  },
  {
   "cell_type": "code",
   "execution_count": 164,
   "id": "da54ee16-42f2-4f44-a49c-d13f1202777d",
   "metadata": {},
   "outputs": [
    {
     "data": {
      "text/html": [
       "<style>#sk-container-id-2 {color: black;background-color: white;}#sk-container-id-2 pre{padding: 0;}#sk-container-id-2 div.sk-toggleable {background-color: white;}#sk-container-id-2 label.sk-toggleable__label {cursor: pointer;display: block;width: 100%;margin-bottom: 0;padding: 0.3em;box-sizing: border-box;text-align: center;}#sk-container-id-2 label.sk-toggleable__label-arrow:before {content: \"▸\";float: left;margin-right: 0.25em;color: #696969;}#sk-container-id-2 label.sk-toggleable__label-arrow:hover:before {color: black;}#sk-container-id-2 div.sk-estimator:hover label.sk-toggleable__label-arrow:before {color: black;}#sk-container-id-2 div.sk-toggleable__content {max-height: 0;max-width: 0;overflow: hidden;text-align: left;background-color: #f0f8ff;}#sk-container-id-2 div.sk-toggleable__content pre {margin: 0.2em;color: black;border-radius: 0.25em;background-color: #f0f8ff;}#sk-container-id-2 input.sk-toggleable__control:checked~div.sk-toggleable__content {max-height: 200px;max-width: 100%;overflow: auto;}#sk-container-id-2 input.sk-toggleable__control:checked~label.sk-toggleable__label-arrow:before {content: \"▾\";}#sk-container-id-2 div.sk-estimator input.sk-toggleable__control:checked~label.sk-toggleable__label {background-color: #d4ebff;}#sk-container-id-2 div.sk-label input.sk-toggleable__control:checked~label.sk-toggleable__label {background-color: #d4ebff;}#sk-container-id-2 input.sk-hidden--visually {border: 0;clip: rect(1px 1px 1px 1px);clip: rect(1px, 1px, 1px, 1px);height: 1px;margin: -1px;overflow: hidden;padding: 0;position: absolute;width: 1px;}#sk-container-id-2 div.sk-estimator {font-family: monospace;background-color: #f0f8ff;border: 1px dotted black;border-radius: 0.25em;box-sizing: border-box;margin-bottom: 0.5em;}#sk-container-id-2 div.sk-estimator:hover {background-color: #d4ebff;}#sk-container-id-2 div.sk-parallel-item::after {content: \"\";width: 100%;border-bottom: 1px solid gray;flex-grow: 1;}#sk-container-id-2 div.sk-label:hover label.sk-toggleable__label {background-color: #d4ebff;}#sk-container-id-2 div.sk-serial::before {content: \"\";position: absolute;border-left: 1px solid gray;box-sizing: border-box;top: 0;bottom: 0;left: 50%;z-index: 0;}#sk-container-id-2 div.sk-serial {display: flex;flex-direction: column;align-items: center;background-color: white;padding-right: 0.2em;padding-left: 0.2em;position: relative;}#sk-container-id-2 div.sk-item {position: relative;z-index: 1;}#sk-container-id-2 div.sk-parallel {display: flex;align-items: stretch;justify-content: center;background-color: white;position: relative;}#sk-container-id-2 div.sk-item::before, #sk-container-id-2 div.sk-parallel-item::before {content: \"\";position: absolute;border-left: 1px solid gray;box-sizing: border-box;top: 0;bottom: 0;left: 50%;z-index: -1;}#sk-container-id-2 div.sk-parallel-item {display: flex;flex-direction: column;z-index: 1;position: relative;background-color: white;}#sk-container-id-2 div.sk-parallel-item:first-child::after {align-self: flex-end;width: 50%;}#sk-container-id-2 div.sk-parallel-item:last-child::after {align-self: flex-start;width: 50%;}#sk-container-id-2 div.sk-parallel-item:only-child::after {width: 0;}#sk-container-id-2 div.sk-dashed-wrapped {border: 1px dashed gray;margin: 0 0.4em 0.5em 0.4em;box-sizing: border-box;padding-bottom: 0.4em;background-color: white;}#sk-container-id-2 div.sk-label label {font-family: monospace;font-weight: bold;display: inline-block;line-height: 1.2em;}#sk-container-id-2 div.sk-label-container {text-align: center;}#sk-container-id-2 div.sk-container {/* jupyter's `normalize.less` sets `[hidden] { display: none; }` but bootstrap.min.css set `[hidden] { display: none !important; }` so we also need the `!important` here to be able to override the default hidden behavior on the sphinx rendered scikit-learn.org. See: https://github.com/scikit-learn/scikit-learn/issues/21755 */display: inline-block !important;position: relative;}#sk-container-id-2 div.sk-text-repr-fallback {display: none;}</style><div id=\"sk-container-id-2\" class=\"sk-top-container\"><div class=\"sk-text-repr-fallback\"><pre>SGDClassifier(random_state=42)</pre><b>In a Jupyter environment, please rerun this cell to show the HTML representation or trust the notebook. <br />On GitHub, the HTML representation is unable to render, please try loading this page with nbviewer.org.</b></div><div class=\"sk-container\" hidden><div class=\"sk-item\"><div class=\"sk-estimator sk-toggleable\"><input class=\"sk-toggleable__control sk-hidden--visually\" id=\"sk-estimator-id-2\" type=\"checkbox\" checked><label for=\"sk-estimator-id-2\" class=\"sk-toggleable__label sk-toggleable__label-arrow\">SGDClassifier</label><div class=\"sk-toggleable__content\"><pre>SGDClassifier(random_state=42)</pre></div></div></div></div></div>"
      ],
      "text/plain": [
       "SGDClassifier(random_state=42)"
      ]
     },
     "execution_count": 164,
     "metadata": {},
     "output_type": "execute_result"
    }
   ],
   "source": [
    "from sklearn.linear_model import SGDClassifier\n",
    "\n",
    "sgd_clf = SGDClassifier(random_state=42)\n",
    "sgd_clf.fit(x_train,y_train_5)"
   ]
  },
  {
   "cell_type": "code",
   "execution_count": 165,
   "id": "4f889e55-af26-4700-bb24-c6f5f2691b85",
   "metadata": {},
   "outputs": [
    {
     "data": {
      "text/plain": [
       "array([ True])"
      ]
     },
     "execution_count": 165,
     "metadata": {},
     "output_type": "execute_result"
    }
   ],
   "source": [
    "sgd_clf.predict([some_digit])"
   ]
  },
  {
   "cell_type": "code",
   "execution_count": 166,
   "id": "cac1c5be-53af-401b-96aa-08f406394793",
   "metadata": {},
   "outputs": [
    {
     "data": {
      "text/plain": [
       "5"
      ]
     },
     "execution_count": 166,
     "metadata": {},
     "output_type": "execute_result"
    }
   ],
   "source": [
    "y[0]"
   ]
  },
  {
   "cell_type": "code",
   "execution_count": 167,
   "id": "bcbe9809-8611-4439-a48d-e095eab4a1dd",
   "metadata": {},
   "outputs": [],
   "source": [
    "# 성능 측정"
   ]
  },
  {
   "cell_type": "code",
   "execution_count": 168,
   "id": "a3a46036-d7bb-49cd-9e28-3e92259870ca",
   "metadata": {},
   "outputs": [],
   "source": [
    "# 교차 검증을 사용한 정확도 측정\n",
    "# cross_val_score()\n",
    "# 3개의 폴드로 나눈다.\n",
    "# 1, 2, 3폴드, 1, 2로 학습한 후 3폴드로 정확도 측정 - 점수, 2, 3 학습한 후 1폴드로 정확도 측정 - 점수...\n",
    "# 총 3번 정확도 측정\n",
    "# K-겹 교차 검증\n",
    "# 과대 적합"
   ]
  },
  {
   "cell_type": "code",
   "execution_count": 169,
   "id": "131a2ebc-bd9a-41ce-81d0-783aab13feb9",
   "metadata": {},
   "outputs": [
    {
     "name": "stderr",
     "output_type": "stream",
     "text": [
      "[Parallel(n_jobs=1)]: Using backend SequentialBackend with 1 concurrent workers.\n",
      "[Parallel(n_jobs=1)]: Done   3 out of   3 | elapsed:   21.4s finished\n"
     ]
    },
    {
     "data": {
      "text/plain": [
       "array([0.95035,\n",
       "       0.96035,\n",
       "       0.9604 ])"
      ]
     },
     "execution_count": 169,
     "metadata": {},
     "output_type": "execute_result"
    }
   ],
   "source": [
    "# 몇겹으로 검증 할 건지 옵션 cv=?\n",
    "# 원하는 평가지표를 넣기위해 scoring 파라미터에 정확도를 뜻하는 accuracy를 넣는다.\n",
    "from sklearn.model_selection import cross_val_score\n",
    "cross_val_score(sgd_clf,x_train,y_train_5,cv=3,scoring='accuracy',verbose=1)"
   ]
  },
  {
   "cell_type": "code",
   "execution_count": 170,
   "id": "60dcb6cc-c239-4518-8ad0-b48712129ff1",
   "metadata": {},
   "outputs": [],
   "source": [
    "# 이진 분류는 실제 양성클래스의 수에 따라 성능 점수가 다르다.\n",
    "# 5아님으로 분류를 하게 되면 점수가 높아 진다."
   ]
  },
  {
   "cell_type": "code",
   "execution_count": 171,
   "id": "b5b0e97f-0275-446c-bef8-b9cae6a4a391",
   "metadata": {},
   "outputs": [],
   "source": [
    "# 모든 이미지를 '5가 아님' 클래스로 분류하는 더미 분류기를 만든다.\n",
    "from sklearn.base import BaseEstimator\n",
    "class Never5Classifier(BaseEstimator):\n",
    "    def fit(self,x,y=None):\n",
    "        pass\n",
    "    def predict(self,x):\n",
    "        return np.zeros((len(x),1),dtype=bool)"
   ]
  },
  {
   "cell_type": "code",
   "execution_count": 172,
   "id": "4f476624-2684-4b12-bde1-cd4bf1f806a9",
   "metadata": {},
   "outputs": [
    {
     "data": {
      "text/plain": [
       "array([0.91125,\n",
       "       0.90855,\n",
       "       0.90915])"
      ]
     },
     "execution_count": 172,
     "metadata": {},
     "output_type": "execute_result"
    }
   ],
   "source": [
    "never_5_clf = Never5Classifier()\n",
    "cross_val_score(never_5_clf,x_train,y_train_5,cv=3,scoring='accuracy')"
   ]
  },
  {
   "cell_type": "code",
   "execution_count": 173,
   "id": "92e38c76-e8a8-43d4-8d71-ddc0e6f7518e",
   "metadata": {},
   "outputs": [],
   "source": [
    "# 정확도는 분류기의 성능 측정 지표로 선호하지 않는다."
   ]
  },
  {
   "cell_type": "code",
   "execution_count": 174,
   "id": "11b3fa9e-8e50-45fb-99d9-0ff774c1dfe9",
   "metadata": {},
   "outputs": [],
   "source": [
    "# 오차 행렬\n",
    "# 분류기의 성능을 평가하는 더 좋은 방법은 오차 행렬이다.\n",
    "# 클래스 A의 생플이 클래스 B로 분류된 횟수를 세는 것\n",
    "# 예)5샘플을 5클래스로 분류한 횟수\n",
    "# 5샘플을 5아님으로 분류한 횟수\n",
    "# 5가 아닌 샘플을 5로 분류한 횟수"
   ]
  },
  {
   "cell_type": "code",
   "execution_count": 175,
   "id": "3155d953-ced4-4406-a67c-8eb7e2694dfd",
   "metadata": {
    "tags": []
   },
   "outputs": [
    {
     "data": {
      "text/plain": [
       "array([ True,\n",
       "       False,\n",
       "       False,\n",
       "       ...,\n",
       "        True,\n",
       "       False,\n",
       "       False])"
      ]
     },
     "execution_count": 175,
     "metadata": {},
     "output_type": "execute_result"
    }
   ],
   "source": [
    "# 오차 행렬을 만들려면 실제 타겟과 비교할 수 있도록 먼저 예측값을 만든다.\n",
    "# cross_val_predict()\n",
    "from sklearn.model_selection import cross_val_predict\n",
    "y_train_pred = cross_val_predict(sgd_clf,x_train,y_train_5,cv=3)\n",
    "y_train_pred"
   ]
  },
  {
   "cell_type": "code",
   "execution_count": 176,
   "id": "2f327c63-1619-4ca8-9335-8364203967dd",
   "metadata": {},
   "outputs": [
    {
     "data": {
      "text/plain": [
       "array([[53892,\n",
       "          687],\n",
       "       [ 1891,\n",
       "         3530]],\n",
       "      dtype=int64)"
      ]
     },
     "execution_count": 176,
     "metadata": {},
     "output_type": "execute_result"
    }
   ],
   "source": [
    "# confusion_matrix() 함수를 사용해 오차 행렬을 만든다.\n",
    "# 타겟 클래스와 예측 클래스를 넣는다.\n",
    "# (0,0) - 53892 : '5아님' 이미지를 정확히 5아님으로 분류한 수 - 진짜 음성(true negative)\n",
    "# (0,1) - 687 : '5아님' 이미지를 '5'클래스로 잘못 분류한 수 - 거짓 양성(false positive)\n",
    "# (1,0) - 1891 : '5'이미지를 '5아님' 클래스로 잘못 분류한 수 - 거짓 음성(false negative)\n",
    "# (1,1) - 3530 : '5'이미지를 정확히 '5'클래스로 분류한 수 - 진짜 양성(true positive)\n",
    "from sklearn.metrics import confusion_matrix\n",
    "confusion_matrix(y_train_5,y_train_pred)"
   ]
  },
  {
   "cell_type": "code",
   "execution_count": 177,
   "id": "cc05523a-7ff1-4d20-a78c-baefe4a2e1ff",
   "metadata": {},
   "outputs": [
    {
     "data": {
      "text/plain": [
       "array([[54579,\n",
       "            0],\n",
       "       [    0,\n",
       "         5421]],\n",
       "      dtype=int64)"
      ]
     },
     "execution_count": 177,
     "metadata": {},
     "output_type": "execute_result"
    }
   ],
   "source": [
    "# 완벽한 분류기의 오차 행렬\n",
    "y_train_perfact_pred = y_train_5\n",
    "confusion_matrix(y_train_5,y_train_perfact_pred)"
   ]
  },
  {
   "cell_type": "code",
   "execution_count": 178,
   "id": "d2f1c35c-f8e0-4d0c-8c01-8d73251019b6",
   "metadata": {},
   "outputs": [],
   "source": [
    "# 정밀도와 재현율 - 분류기에 가장 많이 사용되는 요약된 지표\n",
    "# 정밀도 = 진짜 양성 / (진짜양성+거짓양성)\n",
    "# 재현율 = 진짜 양성 / (진짜양성+거짓음성)\n",
    "# 정밀도는 정확하게 분류한 밀도\n",
    "# 재현율은 진짜 양성 비율"
   ]
  },
  {
   "cell_type": "code",
   "execution_count": 179,
   "id": "7d843078-4692-44cc-a6ea-51cd2ff2e4d9",
   "metadata": {},
   "outputs": [
    {
     "data": {
      "text/plain": [
       "0.8370879772350012"
      ]
     },
     "execution_count": 179,
     "metadata": {},
     "output_type": "execute_result"
    }
   ],
   "source": [
    "# 정밀도와 재현율을 구하는 함수 제공\n",
    "# 정밀도 구하기\n",
    "from sklearn.metrics import precision_score,recall_score\n",
    "precision_score(y_train_5,y_train_pred)"
   ]
  },
  {
   "cell_type": "code",
   "execution_count": 180,
   "id": "eff6b5ad-e883-454a-954a-65b4e6bf2dfd",
   "metadata": {},
   "outputs": [
    {
     "data": {
      "text/plain": [
       "0.6511713705958311"
      ]
     },
     "execution_count": 180,
     "metadata": {},
     "output_type": "execute_result"
    }
   ],
   "source": [
    "# 재현율\n",
    "recall_score(y_train_5,y_train_pred)"
   ]
  },
  {
   "cell_type": "code",
   "execution_count": 181,
   "id": "46eeb44c-f1b1-4267-b284-edf784b1e27a",
   "metadata": {},
   "outputs": [],
   "source": [
    "# 다른 분류기와 성능 비교를 할 때에는 F1정수를 사용한다.\n",
    "# F1정수는 정밀도와 재현율의 조화평균 점수"
   ]
  },
  {
   "cell_type": "code",
   "execution_count": 182,
   "id": "a674c509-5b89-433b-ad9f-90ee889d65a4",
   "metadata": {},
   "outputs": [
    {
     "data": {
      "text/plain": [
       "0.7325171197343846"
      ]
     },
     "execution_count": 182,
     "metadata": {},
     "output_type": "execute_result"
    }
   ],
   "source": [
    "# F1점수를 계산하려면 f1_score()함수 사용\n",
    "from sklearn.metrics import f1_score\n",
    "f1_score(y_train_5,y_train_pred)"
   ]
  },
  {
   "cell_type": "code",
   "execution_count": 183,
   "id": "490f8821-e097-437c-9a70-aa644655a0b6",
   "metadata": {},
   "outputs": [],
   "source": [
    "# 일반적으로는 f1점수로 성능 비교를 하지만\n",
    "# 특수한 경우도 있다.\n",
    "# 어린아이에게 안전한 동영상을 걸러내는 분류기를 훈련시킨다고 가정\n",
    "# 정밀도가 중요하다\n",
    "# 정밀도가 높으면 나쁜 동영상이 낄 확률이 적어 진다.\n",
    "# 좋은 동영상도 입구컷이 될 확률이 높아진다.\n",
    "# 재현율이 낮아 진다.\n",
    "# 높은 정밀도, 낮은 재현율이 필요하다\n",
    "\n",
    "# 감시 카메라를 통해 좀도둑을 잡아내는 분류기를 만든다.\n",
    "# 재현율이 99%, 정확도가 30%만 되더라도 좋다.\n",
    "# 경보가 잘못 울리더라도 거의 모든 좀도둑을 잡는다\n",
    "\n",
    "# 둘다 모두 얻을 수는 없다.\n",
    "# 정밀도를 올리면 재현율이 줄어 든다 반대도 마찬가지다.\n",
    "# 이를 정밀도/재현율 트레이드오프라고 한다."
   ]
  },
  {
   "cell_type": "code",
   "execution_count": 184,
   "id": "424c3a87-87e0-4e1e-aee6-96dd574623f3",
   "metadata": {},
   "outputs": [],
   "source": [
    "# 정밀도/재현율 트레이드오프\n",
    "# SGDClassifier 알고리즘을 살펴 본다\n",
    "# 어떤 이미지가 true,false -> [2000,-3000] -> 기준값(임계값) =>0\n",
    "# 분류할 기준과 결정값 -> 임계값\n",
    "# 인계값 조정을 통해 정밀도/재현율 트레이드 오프 가능"
   ]
  },
  {
   "cell_type": "code",
   "execution_count": 185,
   "id": "fd029e1a-3d42-4093-a7ec-4a9aa911b709",
   "metadata": {},
   "outputs": [
    {
     "data": {
      "text/plain": [
       "array([2164.22030239])"
      ]
     },
     "execution_count": 185,
     "metadata": {},
     "output_type": "execute_result"
    }
   ],
   "source": [
    "# 사이킷런에서 예측에 사용한 점수를 확인 가능\n",
    "# 임계값은 직접 지정할 순 없다.\n",
    "# decision_function()함수 호출하면 각 샘플의 점수를 얻는다.\n",
    "y_score = sgd_clf.decision_function([some_digit])\n",
    "y_score"
   ]
  },
  {
   "cell_type": "code",
   "execution_count": 186,
   "id": "f3b6d2a8-4ecd-471c-a503-2304b0dd24f4",
   "metadata": {},
   "outputs": [
    {
     "data": {
      "text/plain": [
       "array([ True])"
      ]
     },
     "execution_count": 186,
     "metadata": {},
     "output_type": "execute_result"
    }
   ],
   "source": [
    "threshold =0\n",
    "y_some_digit_pred = (y_score>threshold)\n",
    "y_some_digit_pred"
   ]
  },
  {
   "cell_type": "code",
   "execution_count": 187,
   "id": "1846c72c-9be3-45d8-aeb1-3382e737b3b3",
   "metadata": {},
   "outputs": [
    {
     "data": {
      "text/plain": [
       "array([False])"
      ]
     },
     "execution_count": 187,
     "metadata": {},
     "output_type": "execute_result"
    }
   ],
   "source": [
    "threshold =8000\n",
    "y_some_digit_pred = (y_score>threshold)\n",
    "y_some_digit_pred"
   ]
  },
  {
   "cell_type": "code",
   "execution_count": 188,
   "id": "b701c069-8333-49a7-a858-c0700b425e82",
   "metadata": {},
   "outputs": [],
   "source": [
    "# 임계값을 높이면 재현율이 줄어 든다."
   ]
  },
  {
   "cell_type": "code",
   "execution_count": 189,
   "id": "65befed5-1689-40b0-9cdb-d8d89092cc53",
   "metadata": {
    "tags": []
   },
   "outputs": [
    {
     "data": {
      "text/plain": [
       "array([  1200.93051237,\n",
       "       -26883.79202424,\n",
       "       -33072.03475406,\n",
       "       ...,\n",
       "        13272.12718981,\n",
       "        -7258.47203373,\n",
       "       -16877.50840447])"
      ]
     },
     "execution_count": 189,
     "metadata": {},
     "output_type": "execute_result"
    }
   ],
   "source": [
    "# 훈련 세트의 모든 샘플의 점수를 구한다.\n",
    "# np.set_printoptions(threshold=10,linewidth=10)\n",
    "y_scores = cross_val_predict(sgd_clf,x_train,y_train_5,cv=3,method='decision_function')\n",
    "y_scores"
   ]
  },
  {
   "cell_type": "code",
   "execution_count": 190,
   "id": "e9996b14-99fd-451a-920c-e3bca9bbd1f7",
   "metadata": {
    "tags": []
   },
   "outputs": [
    {
     "data": {
      "text/plain": [
       "array([-146348.56726174,\n",
       "       -142300.00705404,\n",
       "       -137588.97581744,\n",
       "       ...,\n",
       "         38871.26391927,\n",
       "         42216.05562787,\n",
       "         49441.43765905])"
      ]
     },
     "execution_count": 190,
     "metadata": {},
     "output_type": "execute_result"
    }
   ],
   "source": [
    "# 가능한 모든 임곗값에 대해 정밀도와 재현율을 계산 해준다.\n",
    "# precision_recall_curve()\n",
    "from sklearn.metrics import precision_recall_curve\n",
    "precisions,recalls,thresholds = precision_recall_curve(y_train_5,y_scores)\n",
    "thresholds"
   ]
  },
  {
   "cell_type": "code",
   "execution_count": 191,
   "id": "bc458540-77e1-4e5a-ba46-48ee5abdebdb",
   "metadata": {
    "tags": []
   },
   "outputs": [
    {
     "data": {
      "text/plain": [
       "(array([0.09035   ,\n",
       "        0.09035151,\n",
       "        0.09035301,\n",
       "        ...,\n",
       "        1.        ,\n",
       "        1.        ,\n",
       "        1.        ]),\n",
       " array([1.00000000e+00,\n",
       "        1.00000000e+00,\n",
       "        1.00000000e+00,\n",
       "        ...,\n",
       "        3.68935621e-04,\n",
       "        1.84467810e-04,\n",
       "        0.00000000e+00]),\n",
       " array([-146348.56726174,\n",
       "        -142300.00705404,\n",
       "        -137588.97581744,\n",
       "        ...,\n",
       "          38871.26391927,\n",
       "          42216.05562787,\n",
       "          49441.43765905]))"
      ]
     },
     "execution_count": 191,
     "metadata": {},
     "output_type": "execute_result"
    }
   ],
   "source": [
    "# 3개의 배열이 나온다.\n",
    "precision_recall_curve(y_train_5,y_scores)"
   ]
  },
  {
   "cell_type": "code",
   "execution_count": 192,
   "id": "73a12717-6324-4be9-9fa7-20b293e38c04",
   "metadata": {},
   "outputs": [
    {
     "data": {
      "text/plain": [
       "(60000, 60001, 60001)"
      ]
     },
     "execution_count": 192,
     "metadata": {},
     "output_type": "execute_result"
    }
   ],
   "source": [
    "len(thresholds),len(precisions),len(recalls)"
   ]
  },
  {
   "cell_type": "code",
   "execution_count": 193,
   "id": "964ffe78-3ca7-4137-b014-f10761a799b4",
   "metadata": {},
   "outputs": [
    {
     "data": {
      "text/plain": [
       "(1.0, 0.0)"
      ]
     },
     "execution_count": 193,
     "metadata": {},
     "output_type": "execute_result"
    }
   ],
   "source": [
    "precisions[-1],recalls[-1]"
   ]
  },
  {
   "cell_type": "code",
   "execution_count": 194,
   "id": "5111405d-768a-403a-8904-84f6e7301f23",
   "metadata": {},
   "outputs": [
    {
     "data": {
      "image/png": "[encoded data removed]",
      "text/plain": [
       "<Figure size 800x400 with 1 Axes>"
      ]
     },
     "metadata": {},
     "output_type": "display_data"
    }
   ],
   "source": [
    "# 임곗값에 따른 정밀도와 재현율을 시각화\n",
    "# 'b--' 는 파란색에 점선을 의미\n",
    "def plot_precision_recall_vs_threshold(precisions,recalls,thresholds):\n",
    "    plt.plot(thresholds,precisions[:-1],'b--',label='정밀도',linewidth=2)\n",
    "    plt.plot(thresholds,recalls[:-1],'g-',label='재현율',linewidth=2)\n",
    "    plt.legend(loc='center right',fontsize=16)\n",
    "    plt.xlabel('Threshold(임곗값)',fontsize=16)\n",
    "    plt.grid(True)\n",
    "    plt.axis([-50000,50000,0,1])\n",
    "plt.figure(figsize=(8,4))\n",
    "plot_precision_recall_vs_threshold(precisions,recalls,thresholds)\n",
    "plt.show()"
   ]
  },
  {
   "cell_type": "code",
   "execution_count": 195,
   "id": "20c4aba0-6250-4c5c-b52f-ea03aad48017",
   "metadata": {},
   "outputs": [
    {
     "data": {
      "image/png": "[encoded data removed]",
      "text/plain": [
       "<Figure size 800x600 with 1 Axes>"
      ]
     },
     "metadata": {},
     "output_type": "display_data"
    }
   ],
   "source": [
    "# 좋은 정밀도/재현율 트레이드오프를 선택하는 방법\n",
    "# 재현율에 대한 정밀도 곡선을 그리는 것\n",
    "def plot_precision_vs_recall(precisions,recalls):\n",
    "    plt.plot(recalls,precisions,'b-',linewidth=2)\n",
    "    plt.xlabel('재현율',fontsize=16)\n",
    "    plt.ylabel('정밀도',fontsize=16)\n",
    "    plt.axis([0,1,0,1])\n",
    "    plt.grid(True)\n",
    "plt.figure(figsize=(8,6))\n",
    "plot_precision_vs_recall(precisions,recalls)\n",
    "plt.show()"
   ]
  },
  {
   "cell_type": "code",
   "execution_count": 196,
   "id": "59ae0dc6-353c-4fcb-89c3-362480d28743",
   "metadata": {},
   "outputs": [
    {
     "data": {
      "text/plain": [
       "3370.0194991439557"
      ]
     },
     "execution_count": 196,
     "metadata": {},
     "output_type": "execute_result"
    }
   ],
   "source": [
    "# 정밀도가 90%를 달성하는 것이 목표라고 가정\n",
    "# np.argmax() - 최댓값의 첫 번째 인덱스를 반환\n",
    "threshold_90_precisions = thresholds[np.argmax(precisions>=0.90)]\n",
    "threshold_90_precisions"
   ]
  },
  {
   "cell_type": "code",
   "execution_count": 197,
   "id": "fa46f33e-75c5-4534-a7ac-a435a0cfb2a5",
   "metadata": {},
   "outputs": [
    {
     "data": {
      "text/plain": [
       "array([False,\n",
       "       False,\n",
       "       False,\n",
       "       ...,\n",
       "        True,\n",
       "       False,\n",
       "       False])"
      ]
     },
     "execution_count": 197,
     "metadata": {},
     "output_type": "execute_result"
    }
   ],
   "source": [
    "# 정확도 90%에 대한 예측\n",
    "y_train_pred_90 = (y_scores>=threshold_90_precisions)\n",
    "y_train_pred_90"
   ]
  },
  {
   "cell_type": "code",
   "execution_count": 198,
   "id": "a342a112-5c9a-430a-bb18-31bd430f814c",
   "metadata": {},
   "outputs": [
    {
     "data": {
      "text/plain": [
       "(0.9000345901072293, 0.4799852425751706)"
      ]
     },
     "execution_count": 198,
     "metadata": {},
     "output_type": "execute_result"
    }
   ],
   "source": [
    "# 예측에 대한 정밀도와 재현율을 확인\n",
    "precision_score(y_train_5,y_train_pred_90),recall_score(y_train_5,y_train_pred_90)\n",
    "# 아래 나오는 값은 (정밀도, 재현율) 값이다."
   ]
  },
  {
   "cell_type": "code",
   "execution_count": 199,
   "id": "f6043677-36bc-4567-8d83-cea4bf09536a",
   "metadata": {},
   "outputs": [],
   "source": [
    "#### ROC 곡선\n",
    "# 수신기 조작 특성(ROC)\n",
    "# ROC곡선은 거짓 양성 비율에 대한 진짜 양성 비율의 곡선\n",
    "# ROC곡선은 재현율에 대한 1-특이도 그래프\n",
    "# 진짜 음성 비율(TNR)을 특이도 라고 함"
   ]
  },
  {
   "cell_type": "code",
   "execution_count": 200,
   "id": "babc4ddc-7677-4390-9437-40446996f017",
   "metadata": {},
   "outputs": [
    {
     "data": {
      "text/plain": [
       "array([0.        ,\n",
       "       0.        ,\n",
       "       0.        ,\n",
       "       ...,\n",
       "       0.99937705,\n",
       "       0.99937705,\n",
       "       1.        ])"
      ]
     },
     "execution_count": 200,
     "metadata": {},
     "output_type": "execute_result"
    }
   ],
   "source": [
    "# ROC곡선을 그리려면 roc_curve() 함수를 사용\n",
    "# 여러 임곗값에서 거짓양성비율(FPR)과 진짜양성비율(TPR)을 계산\n",
    "from sklearn.metrics import roc_curve\n",
    "fpr,tpr,thresholds = roc_curve(y_train_5,y_scores)\n",
    "fpr"
   ]
  },
  {
   "cell_type": "code",
   "execution_count": 201,
   "id": "3d4d36b8-0c39-4487-9d66-4c4f8e968446",
   "metadata": {},
   "outputs": [
    {
     "data": {
      "image/png": "[encoded data removed]",
      "text/plain": [
       "<Figure size 800x600 with 1 Axes>"
      ]
     },
     "metadata": {},
     "output_type": "display_data"
    }
   ],
   "source": [
    "def plot_roc_curve(fpr,tpr,label=None):\n",
    "    plt.plot(fpr,tpr,linewidth=2,label=label)\n",
    "    # 대각 점선\n",
    "    plt.plot([0,1],[0,1],'k--')\n",
    "    plt.axis([0,1,0,1])\n",
    "    plt.xlabel('FPR',fontsize=16)\n",
    "    plt.ylabel('TPR',fontsize=16)\n",
    "    plt.grid(True)\n",
    "plt.figure(figsize=(8,6))\n",
    "plot_roc_curve(fpr,tpr)\n",
    "plt.show()"
   ]
  },
  {
   "cell_type": "code",
   "execution_count": 202,
   "id": "f1f7de26-2707-418d-8c48-c14686cf8842",
   "metadata": {},
   "outputs": [],
   "source": [
    "# TPR(진짜 양성 비율),재현율\n",
    "# FPR(가짜 양상 비율)\n",
    "# 트레이드오프가 발생\n",
    "# 왼쪽 모서리로 선이 붙을 수록 좋은 모델이 된다.\n",
    "# 좋은 분류기는 점선에서 최대한 멀리 떨어져 있어야 된다.\n",
    "# 1. F1정수, 2. 정밀도/재현율 곡선(PR), 3. ROC곡선"
   ]
  },
  {
   "cell_type": "code",
   "execution_count": 203,
   "id": "6ba240a7-4cfb-4b60-bf25-09a6141da0f0",
   "metadata": {},
   "outputs": [],
   "source": [
    "# 일반적인 법칙\n",
    "# 양성 클래스가 드물거나 거짓 음성보다 거짓 양성이 더 중요할 때 = PR곡선이 유리\n",
    "# 반대의 경우 ROC곡선"
   ]
  },
  {
   "cell_type": "code",
   "execution_count": 204,
   "id": "daf513a5-89bf-42e9-a1a9-34e9068ee955",
   "metadata": {},
   "outputs": [],
   "source": [
    "# 곡선 아래의 면적(AUC)을 측정하면 분류기준을 비교할 수 있다.\n",
    "# 완벽한 분류기는 ROC의 AUC가 1, 완전한 랜덤 분류기는 0.5"
   ]
  },
  {
   "cell_type": "code",
   "execution_count": 205,
   "id": "699399eb-8ad2-473d-a4e2-0e6fc5c97d4b",
   "metadata": {},
   "outputs": [
    {
     "data": {
      "text/plain": [
       "0.9604938554008616"
      ]
     },
     "execution_count": 205,
     "metadata": {},
     "output_type": "execute_result"
    }
   ],
   "source": [
    "# AUC 점수 구하기\n",
    "from sklearn.metrics import roc_auc_score\n",
    "roc_auc_score(y_train_5,y_scores)"
   ]
  },
  {
   "cell_type": "code",
   "execution_count": 206,
   "id": "7865e4ac-86d6-4f73-912b-fe68d7acdf78",
   "metadata": {},
   "outputs": [],
   "source": [
    "# 랜덤포레스트 분류기를 훈련시켜 확률적경사하강법 분류기와 AUC점수를 비교"
   ]
  },
  {
   "cell_type": "code",
   "execution_count": 207,
   "id": "1eb31164-340f-4edc-b1a5-df452bc579ef",
   "metadata": {},
   "outputs": [],
   "source": [
    "# 랜덤포레스트 분류기는 예를 들어 어떤 이미지가 5일 확률 - 70%\n",
    "# predict_proba() 함수가 있다. - 샘플이 주어진 클래스에 속할 확률을 담은 배열을 반환\n",
    "from sklearn.ensemble import RandomForestClassifier\n",
    "forest_clf = RandomForestClassifier(n_estimators=100,random_state=42)\n",
    "# random_state 랜덤시득 고정\n",
    "# n_estimators 결정트리 개수 지정\n",
    "\n",
    "y_probas_forest = cross_val_predict(forest_clf,x_train,y_train_5,cv=3,method='predict_proba')"
   ]
  },
  {
   "cell_type": "code",
   "execution_count": 208,
   "id": "32a02e8c-067d-49ff-8c0e-d8d8e72aad54",
   "metadata": {},
   "outputs": [
    {
     "data": {
      "text/plain": [
       "array([[0.11,\n",
       "        0.89],\n",
       "       [0.99,\n",
       "        0.01],\n",
       "       [0.96,\n",
       "        0.04],\n",
       "       ...,\n",
       "       [0.02,\n",
       "        0.98],\n",
       "       [0.92,\n",
       "        0.08],\n",
       "       [0.94,\n",
       "        0.06]])"
      ]
     },
     "execution_count": 208,
     "metadata": {},
     "output_type": "execute_result"
    }
   ],
   "source": [
    "# 리스트의 두번째가 양성 클래스의 확률\n",
    "y_probas_forest"
   ]
  },
  {
   "cell_type": "code",
   "execution_count": 209,
   "id": "b0b13599-952f-4a5b-9ff7-d18ab282a48b",
   "metadata": {},
   "outputs": [
    {
     "data": {
      "text/plain": [
       "array([0.89,\n",
       "       0.01,\n",
       "       0.04,\n",
       "       ...,\n",
       "       0.98,\n",
       "       0.08,\n",
       "       0.06])"
      ]
     },
     "execution_count": 209,
     "metadata": {},
     "output_type": "execute_result"
    }
   ],
   "source": [
    "y_scores_forest = y_probas_forest[:,1]\n",
    "y_scores_forest"
   ]
  },
  {
   "cell_type": "code",
   "execution_count": 210,
   "id": "bb57677e-6ed8-4743-8d1e-ce51bb04181b",
   "metadata": {},
   "outputs": [],
   "source": [
    "fpr_forest,tpr_forest,thresholds_forest = roc_curve(y_train_5,y_scores_forest)"
   ]
  },
  {
   "cell_type": "code",
   "execution_count": 211,
   "id": "3347036e-7cbc-4c00-b459-73fdd83f3053",
   "metadata": {},
   "outputs": [
    {
     "data": {
      "image/png": "[encoded data removed]",
      "text/plain": [
       "<Figure size 800x600 with 1 Axes>"
      ]
     },
     "metadata": {},
     "output_type": "display_data"
    }
   ],
   "source": [
    "# 비교를 위해 첫번째 두번째 ROC곡선을 함께 그린다.\n",
    "plt.figure(figsize=(8,6))\n",
    "plt.plot(fpr,tpr,'b:',linewidth=2,label='SGD')\n",
    "plot_roc_curve(fpr_forest,tpr_forest,'Random Forest')\n",
    "plt.legend(loc='lower right',fontsize=16)\n",
    "plt.show()\n",
    "# 아래 그래프에서 SGD보다 Random Forest가 더 왼쪽 모서리에 가깝기 때문에 Random Forest가 더 좋은 성능이다."
   ]
  },
  {
   "cell_type": "code",
   "execution_count": 212,
   "id": "30fb0cc4-5097-49f1-8ae7-646801b64f69",
   "metadata": {},
   "outputs": [
    {
     "data": {
      "text/plain": [
       "0.9983436731328145"
      ]
     },
     "execution_count": 212,
     "metadata": {},
     "output_type": "execute_result"
    }
   ],
   "source": [
    "# 랜던포레스트가 더 좋다.\n",
    "# AUC점수로도 비교\n",
    "roc_auc_score(y_train_5,y_scores_forest)"
   ]
  },
  {
   "cell_type": "code",
   "execution_count": 213,
   "id": "7b100e3b-f5ad-4a04-b1e9-36bd10a888cf",
   "metadata": {},
   "outputs": [],
   "source": [
    "# 이진 분류기를 훈련시키는 방법\n",
    "# 작업에 맞는 적절한 지표 선택 - 알고리즘 선택\n",
    "# 교차 검증을 사용한 평가\n",
    "# 요구 사항에 맞는 정밀도/재현율 트레이드 오프 선택\n",
    "# ROC곡선과 ROC AUC점수를 사용해서 여러 모델을 비교"
   ]
  },
  {
   "cell_type": "code",
   "execution_count": 214,
   "id": "13e41bd9-c179-473a-b349-911801bfe922",
   "metadata": {},
   "outputs": [],
   "source": [
    "## 다중 분류\n",
    "# 이진 분류 - 두 개의 클래스로 구별\n",
    "# 다중 분류 - 둘 이상의 클래스로 구별\n",
    "# 여러 개의 클래스를 직접 처리 - SGD, 랜덤포레스트, 나이브베이즈 등등\n",
    "# 이진 분류기를 여러 개 사용해 다중 클래스를 분류하는 기법\n",
    "# 특정 숫자 하나만 구분하는 숫자별 이진 분류기 10개를 훈련시켜\n",
    "# 클래스가 10개인 숫자 이미지 분류 시스템 만들 수 있다.\n",
    "# 이를 OvR(One-versus-the-Rest) 또는 OvA(One-versus-the-All)라고도 부른다"
   ]
  },
  {
   "cell_type": "code",
   "execution_count": 215,
   "id": "9917f5c1-4ab7-4d2d-931d-195666323c6e",
   "metadata": {},
   "outputs": [],
   "source": [
    "# 예를 들어 0과 1구별, 0과 2 구별.......9와 1 구별등과 같이\n",
    "# 각 숫자의 조합마다 이진 분류기를 훈련시키는 기법\n",
    "# 이를 OvO(One-versus-One)전략이라고 한다.\n",
    "# 클래스가 N개라면 분류기가 N*(N-1)/2 개가 필요\n",
    "# MNIST 문제에서는 45개의 분류기를 훈련시켜야 된다."
   ]
  },
  {
   "cell_type": "code",
   "execution_count": 216,
   "id": "3a1e331d-4331-4840-b9ce-12e3c866dc81",
   "metadata": {},
   "outputs": [],
   "source": [
    "# 다중 클래스 분류 작업에 이진 분류 알고리즘을 선택하면\n",
    "# 사이킷런이 알고리즘에 따라 자동으로 OvR또는 OvO를 선택해서 실행"
   ]
  },
  {
   "cell_type": "code",
   "execution_count": 217,
   "id": "0b436dbd-f4b5-4112-bc14-b7ecbff4ab08",
   "metadata": {},
   "outputs": [
    {
     "data": {
      "text/plain": [
       "array([5],\n",
       "      dtype=uint8)"
      ]
     },
     "execution_count": 217,
     "metadata": {},
     "output_type": "execute_result"
    }
   ],
   "source": [
    "# 이진분류 알고리즘 - 서포트 백터 머신\n",
    "# 작은 훈련 세트에서 많은 분류기를 훈련시키는 쪽이 속도가 빠른 알고리즘\n",
    "# OvO를 선호한다.\n",
    "from sklearn.svm import SVC\n",
    "svm_clf = SVC(gamma='auto',random_state=42)\n",
    "svm_clf.fit(x_train[:1000],y_train[:1000])\n",
    "svm_clf.predict([some_digit])"
   ]
  },
  {
   "cell_type": "code",
   "execution_count": 218,
   "id": "d2767905-8aa6-49ba-a8e4-2d0fdc045a96",
   "metadata": {},
   "outputs": [
    {
     "data": {
      "text/plain": [
       "array([[ 2.81585438,\n",
       "         7.09167958,\n",
       "         3.82972099,\n",
       "         0.79365551,\n",
       "         5.8885703 ,\n",
       "         9.29718395,\n",
       "         1.79862509,\n",
       "         8.10392157,\n",
       "        -0.228207  ,\n",
       "         4.83753243]])"
      ]
     },
     "execution_count": 218,
     "metadata": {},
     "output_type": "execute_result"
    }
   ],
   "source": [
    "# 샘플당 10개의 점수\n",
    "some_digit_scores = svm_clf.decision_function([some_digit])\n",
    "some_digit_scores"
   ]
  },
  {
   "cell_type": "code",
   "execution_count": 219,
   "id": "1a904207-0e69-4a06-b98e-58a9d3bdc6b9",
   "metadata": {},
   "outputs": [
    {
     "data": {
      "text/plain": [
       "5"
      ]
     },
     "execution_count": 219,
     "metadata": {},
     "output_type": "execute_result"
    }
   ],
   "source": [
    "# 가장 높은 점수가 클래스 5에 해당하는 값이 된다\n",
    "np.argmax(some_digit_scores)"
   ]
  },
  {
   "cell_type": "code",
   "execution_count": 220,
   "id": "54b90821-5feb-4e63-ac11-4382fdd30ff7",
   "metadata": {},
   "outputs": [
    {
     "data": {
      "text/plain": [
       "array([0,\n",
       "       1,\n",
       "       2,\n",
       "       3,\n",
       "       4,\n",
       "       5,\n",
       "       6,\n",
       "       7,\n",
       "       8,\n",
       "       9],\n",
       "      dtype=uint8)"
      ]
     },
     "execution_count": 220,
     "metadata": {},
     "output_type": "execute_result"
    }
   ],
   "source": [
    "# 분류기가 훈련될 때 classes_ 속성에 클래스의 리시트를 값으로 정렬하여 저장\n",
    "svm_clf.classes_"
   ]
  },
  {
   "cell_type": "code",
   "execution_count": 221,
   "id": "ec090092-77b0-4c67-8d30-9df21a0b1da1",
   "metadata": {},
   "outputs": [
    {
     "data": {
      "text/plain": [
       "5"
      ]
     },
     "execution_count": 221,
     "metadata": {},
     "output_type": "execute_result"
    }
   ],
   "source": [
    "svm_clf.classes_[np.argmax(some_digit_scores)]"
   ]
  },
  {
   "cell_type": "code",
   "execution_count": 222,
   "id": "942fab62-9a10-4623-99c1-a6c20c20070f",
   "metadata": {},
   "outputs": [],
   "source": [
    "# 사이킷런에서 OvO나, OvR을 사용하도록 간제 할 수 있다.\n",
    "# 간단하게 이진 분류기 인스턴스를 만들어 객체를 생성할 때 전달하면 된다.\n",
    "# OneVsOneclassifier나 OneVsRestClasifier를 사용\n",
    "# 꼭 이진 분류기가 아니어도 사용 가능"
   ]
  },
  {
   "cell_type": "code",
   "execution_count": 223,
   "id": "5534bbc5-16d9-463e-8bd4-6950d9bc7e1c",
   "metadata": {},
   "outputs": [
    {
     "data": {
      "text/plain": [
       "array([5],\n",
       "      dtype=uint8)"
      ]
     },
     "execution_count": 223,
     "metadata": {},
     "output_type": "execute_result"
    }
   ],
   "source": [
    "# SVC 기반으로 OvR전량을 사용해서 다중 분류 하도록 만든다.\n",
    "from sklearn.multiclass import OneVsRestClassifier\n",
    "\n",
    "ovr_clf = OneVsRestClassifier(SVC(gamma='auto',random_state=42))\n",
    "ovr_clf.fit(x_train[:1000],y_train[:1000])\n",
    "ovr_clf.predict([some_digit])"
   ]
  },
  {
   "cell_type": "code",
   "execution_count": 224,
   "id": "046e0ecf-0245-4372-bd2e-a7df2a7d2306",
   "metadata": {},
   "outputs": [
    {
     "data": {
      "text/plain": [
       "array([3],\n",
       "      dtype=uint8)"
      ]
     },
     "execution_count": 224,
     "metadata": {},
     "output_type": "execute_result"
    }
   ],
   "source": [
    "# 다중 클래스 직접 처리하는 알고리즘을 사용 - SGD\n",
    "sgd_clf.fit(x_train,y_train)\n",
    "sgd_clf.predict([some_digit])"
   ]
  },
  {
   "cell_type": "code",
   "execution_count": 225,
   "id": "f7d0a541-193a-4f48-955c-649bc540f489",
   "metadata": {},
   "outputs": [
    {
     "data": {
      "text/plain": [
       "array([[-31893.03095419,\n",
       "        -34419.69069632,\n",
       "         -9530.63950739,\n",
       "          1823.73154031,\n",
       "        -22320.14822878,\n",
       "         -1385.80478895,\n",
       "        -26188.91070951,\n",
       "        -16147.51323997,\n",
       "         -4604.35491274,\n",
       "        -12050.767298  ]])"
      ]
     },
     "execution_count": 225,
     "metadata": {},
     "output_type": "execute_result"
    }
   ],
   "source": [
    "# 클래스마다 부여한 점수 확인\n",
    "sgd_clf.decision_function([some_digit])"
   ]
  },
  {
   "cell_type": "code",
   "execution_count": 226,
   "id": "b34f638e-ae28-4cb3-b3b5-55952210154d",
   "metadata": {},
   "outputs": [
    {
     "data": {
      "text/plain": [
       "array([0.87365,\n",
       "       0.85835,\n",
       "       0.8689 ])"
      ]
     },
     "execution_count": 226,
     "metadata": {},
     "output_type": "execute_result"
    }
   ],
   "source": [
    "cross_val_score(sgd_clf,x_train,y_train,cv=3,scoring='accuracy')"
   ]
  },
  {
   "cell_type": "code",
   "execution_count": 227,
   "id": "981c9716-4629-404f-a1a0-d148947af857",
   "metadata": {},
   "outputs": [
    {
     "data": {
      "text/plain": [
       "array([0.8983,\n",
       "       0.891 ,\n",
       "       0.9018])"
      ]
     },
     "execution_count": 227,
     "metadata": {},
     "output_type": "execute_result"
    }
   ],
   "source": [
    "#### 성틍형상\n",
    "# 스케일을 조정 하면 성능 향상 시킬 수 있다.\n",
    "# 1. 255로 나눈다.\n",
    "# 2. Standard Scaler - 사이킷런에서 지원 - 평균 0, 분산 1로 조정\n",
    "from sklearn.preprocessing import StandardScaler\n",
    "scaler = StandardScaler()\n",
    "x_train_scaled = scaler.fit_transform(x_train.astype(np.float64))\n",
    "cross_val_score(sgd_clf,x_train_scaled,y_train,cv=3,scoring='accuracy')"
   ]
  },
  {
   "cell_type": "code",
   "execution_count": 228,
   "id": "64aca0b2-0b12-4e31-9a05-25bf0b4e252f",
   "metadata": {},
   "outputs": [
    {
     "data": {
      "text/plain": [
       "array([0.,\n",
       "       0.,\n",
       "       0.,\n",
       "       ...,\n",
       "       0.,\n",
       "       0.,\n",
       "       0.])"
      ]
     },
     "execution_count": 228,
     "metadata": {},
     "output_type": "execute_result"
    }
   ],
   "source": [
    "x_train_scaled[20]"
   ]
  },
  {
   "cell_type": "code",
   "execution_count": 229,
   "id": "1acd64ee-a363-4481-95e6-e264ca7824f5",
   "metadata": {},
   "outputs": [],
   "source": [
    "##### 여러분석\n",
    "# 이 모델의 성능을 향상시킬 방법을 찾는다.\n",
    "# 한가지 방법으로 만들어진 에러의 종류를 분석"
   ]
  },
  {
   "cell_type": "code",
   "execution_count": 230,
   "id": "96742ab3-b0b9-4eed-9e84-bfacc5ad59de",
   "metadata": {},
   "outputs": [
    {
     "data": {
      "text/plain": [
       "array([[5577,\n",
       "           0,\n",
       "          22,\n",
       "        ...,\n",
       "           6,\n",
       "         225,\n",
       "           1],\n",
       "       [   0,\n",
       "        6400,\n",
       "          37,\n",
       "        ...,\n",
       "           7,\n",
       "         212,\n",
       "          10],\n",
       "       [  27,\n",
       "          27,\n",
       "        5220,\n",
       "        ...,\n",
       "          36,\n",
       "         378,\n",
       "          11],\n",
       "       ...,\n",
       "       [  21,\n",
       "          10,\n",
       "          51,\n",
       "        ...,\n",
       "        5684,\n",
       "         195,\n",
       "         210],\n",
       "       [  17,\n",
       "          63,\n",
       "          48,\n",
       "        ...,\n",
       "          10,\n",
       "        5429,\n",
       "          44],\n",
       "       [  25,\n",
       "          18,\n",
       "          30,\n",
       "        ...,\n",
       "         179,\n",
       "         371,\n",
       "        5107]],\n",
       "      dtype=int64)"
      ]
     },
     "execution_count": 230,
     "metadata": {},
     "output_type": "execute_result"
    }
   ],
   "source": [
    "# 오차 행렬을 살펴 본다\n",
    "y_train_pred = cross_val_predict(sgd_clf,x_train_scaled,y_train,cv=3)\n",
    "conf_mx = confusion_matrix(y_train,y_train_pred)\n",
    "conf_mx"
   ]
  },
  {
   "cell_type": "code",
   "execution_count": 231,
   "id": "a0675214-8591-4595-ba0d-aa1843db439e",
   "metadata": {},
   "outputs": [
    {
     "data": {
      "image/png": "[encoded data removed]",
      "text/plain": [
       "<Figure size 480x480 with 1 Axes>"
      ]
     },
     "metadata": {},
     "output_type": "display_data"
    }
   ],
   "source": [
    "# 오차 행렬을 시각화\n",
    "plt.matshow(conf_mx,cmap='gray')\n",
    "plt.show()"
   ]
  },
  {
   "cell_type": "code",
   "execution_count": 232,
   "id": "520d7807-b216-4a5a-933e-165c543bde74",
   "metadata": {},
   "outputs": [],
   "source": [
    "# 행은 실제 클래스를 나타내고 열은 예측한 클래스를 나타낸다\n",
    "# 대각선은 맞게 분류한 수\n",
    "# 주대각선이 밝으므로 대부분의 이미지가 올바르게 분류 되었다.\n",
    "# 주대각선의 5부분은 다른 부위에 비해 가장 어둡다.\n",
    "# 1. 숫자 5의 이미지가 적다\n",
    "# 2. 숫자 5를 다른 숫자만큼 잘 분류 하지 못한다."
   ]
  },
  {
   "cell_type": "code",
   "execution_count": 233,
   "id": "9880659e-40b9-4ae6-a4c9-3205d2b25d10",
   "metadata": {},
   "outputs": [],
   "source": [
    "# 비율로 오차행렬을 구해서 시각화"
   ]
  }
 ],
 "metadata": {
  "kernelspec": {
   "display_name": "Python 3 (ipykernel)",
   "language": "python",
   "name": "python3"
  },
  "language_info": {
   "codemirror_mode": {
    "name": "ipython",
    "version": 3
   },
   "file_extension": ".py",
   "mimetype": "text/x-python",
   "name": "python",
   "nbconvert_exporter": "python",
   "pygments_lexer": "ipython3",
   "version": "3.10.8"
  }
 },
 "nbformat": 4,
 "nbformat_minor": 5
}
