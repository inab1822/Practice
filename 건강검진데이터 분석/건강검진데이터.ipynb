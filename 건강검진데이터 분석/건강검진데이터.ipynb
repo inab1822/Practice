{
 "cells": [
  {
   "cell_type": "code",
   "execution_count": 48,
   "id": "46a5b59d-b866-4c9d-832c-2c7babed9857",
   "metadata": {},
   "outputs": [],
   "source": [
    "import pandas as pd\n",
    "import numpy as np\n",
    "import matplotlib.pyplot as plt\n",
    "import seaborn as sns\n",
    "# pip install koreanize_matplotlib\n",
    "import koreanize_matplotlib\n",
    "%matplotlib inline"
   ]
  },
  {
   "cell_type": "code",
   "execution_count": 49,
   "id": "e04812f3-1def-48b3-9757-3f32820f5990",
   "metadata": {},
   "outputs": [],
   "source": [
    "df=pd.read_csv('NHIS_OPEN_GJ_2017_v1.1.csv',encoding=\"cp949\")"
   ]
  },
  {
   "cell_type": "markdown",
   "id": "70c4b614-f18a-48c4-abbe-88315103808d",
   "metadata": {},
   "source": [
    "## Q1. 연령대별 허리둘레에 대한 기술통계를 구하려고 합니다. 다음 제공되는 딕셔너리를 통해 연령대코드(5세단위)를 \"연령대\"로 만들고 아래와 같은 기술통계값을 구해주세요!"
   ]
  },
  {
   "cell_type": "code",
   "execution_count": 50,
   "id": "98005c7c-182d-40b4-85ce-2598351fad6d",
   "metadata": {},
   "outputs": [],
   "source": [
    "age_code = {1: '0~4세',\n",
    " 2: '5~9세',\n",
    " 3: '10~14세',\n",
    " 4: '15~19세',\n",
    " 5: '20~24세',\n",
    " 6: '25~29세',\n",
    " 7: '30~34세',\n",
    " 8: '35~39세',\n",
    " 9: '40~44세',\n",
    " 10: '45~49세',\n",
    " 11: '50~54세',\n",
    " 12: '55~59세',\n",
    " 13: '60~64세',\n",
    " 14: '65~69세',\n",
    " 15: '70~74세',\n",
    " 16: '75~79세',\n",
    " 17: '80~84세',\n",
    " 18: '85세+'}"
   ]
  },
  {
   "cell_type": "code",
   "execution_count": 51,
   "id": "dcbd6b75-018c-4207-8916-6339f577a251",
   "metadata": {},
   "outputs": [],
   "source": [
    "df[\"연령대\"] = df[\"연령대코드(5세단위)\"].map(age_code)"
   ]
  },
  {
   "cell_type": "code",
   "execution_count": 52,
   "id": "ce89d962-6483-427b-accb-9fa3b48500f4",
   "metadata": {},
   "outputs": [
    {
     "data": {
      "text/html": [
       "<div>\n",
       "<style scoped>\n",
       "    .dataframe tbody tr th:only-of-type {\n",
       "        vertical-align: middle;\n",
       "    }\n",
       "\n",
       "    .dataframe tbody tr th {\n",
       "        vertical-align: top;\n",
       "    }\n",
       "\n",
       "    .dataframe thead th {\n",
       "        text-align: right;\n",
       "    }\n",
       "</style>\n",
       "<table border=\"1\" class=\"dataframe\">\n",
       "  <thead>\n",
       "    <tr style=\"text-align: right;\">\n",
       "      <th></th>\n",
       "      <th>기준년도</th>\n",
       "      <th>가입자일련번호</th>\n",
       "      <th>성별코드</th>\n",
       "      <th>연령대코드(5세단위)</th>\n",
       "      <th>시도코드</th>\n",
       "      <th>신장(5Cm단위)</th>\n",
       "      <th>체중(5Kg단위)</th>\n",
       "      <th>허리둘레</th>\n",
       "      <th>시력(좌)</th>\n",
       "      <th>시력(우)</th>\n",
       "      <th>...</th>\n",
       "      <th>흡연상태</th>\n",
       "      <th>음주여부</th>\n",
       "      <th>구강검진수검여부</th>\n",
       "      <th>치아우식증유무</th>\n",
       "      <th>결손치유무</th>\n",
       "      <th>치아마모증유무</th>\n",
       "      <th>제3대구치(사랑니)이상</th>\n",
       "      <th>치석</th>\n",
       "      <th>데이터공개일자</th>\n",
       "      <th>연령대</th>\n",
       "    </tr>\n",
       "  </thead>\n",
       "  <tbody>\n",
       "    <tr>\n",
       "      <th>0</th>\n",
       "      <td>2017</td>\n",
       "      <td>1</td>\n",
       "      <td>1</td>\n",
       "      <td>8</td>\n",
       "      <td>43</td>\n",
       "      <td>170</td>\n",
       "      <td>75</td>\n",
       "      <td>90.0</td>\n",
       "      <td>1.0</td>\n",
       "      <td>1.0</td>\n",
       "      <td>...</td>\n",
       "      <td>1.0</td>\n",
       "      <td>Y</td>\n",
       "      <td>Y</td>\n",
       "      <td>NaN</td>\n",
       "      <td>NaN</td>\n",
       "      <td>NaN</td>\n",
       "      <td>NaN</td>\n",
       "      <td>Y</td>\n",
       "      <td>2018-11-26</td>\n",
       "      <td>35~39세</td>\n",
       "    </tr>\n",
       "    <tr>\n",
       "      <th>1</th>\n",
       "      <td>2017</td>\n",
       "      <td>2</td>\n",
       "      <td>1</td>\n",
       "      <td>7</td>\n",
       "      <td>11</td>\n",
       "      <td>180</td>\n",
       "      <td>80</td>\n",
       "      <td>89.0</td>\n",
       "      <td>0.9</td>\n",
       "      <td>1.2</td>\n",
       "      <td>...</td>\n",
       "      <td>3.0</td>\n",
       "      <td>N</td>\n",
       "      <td>Y</td>\n",
       "      <td>NaN</td>\n",
       "      <td>NaN</td>\n",
       "      <td>NaN</td>\n",
       "      <td>NaN</td>\n",
       "      <td>NaN</td>\n",
       "      <td>2018-11-26</td>\n",
       "      <td>30~34세</td>\n",
       "    </tr>\n",
       "    <tr>\n",
       "      <th>2</th>\n",
       "      <td>2017</td>\n",
       "      <td>3</td>\n",
       "      <td>1</td>\n",
       "      <td>9</td>\n",
       "      <td>41</td>\n",
       "      <td>165</td>\n",
       "      <td>75</td>\n",
       "      <td>91.0</td>\n",
       "      <td>1.2</td>\n",
       "      <td>1.5</td>\n",
       "      <td>...</td>\n",
       "      <td>1.0</td>\n",
       "      <td>N</td>\n",
       "      <td>N</td>\n",
       "      <td>NaN</td>\n",
       "      <td>NaN</td>\n",
       "      <td>NaN</td>\n",
       "      <td>NaN</td>\n",
       "      <td>NaN</td>\n",
       "      <td>2018-11-26</td>\n",
       "      <td>40~44세</td>\n",
       "    </tr>\n",
       "    <tr>\n",
       "      <th>3</th>\n",
       "      <td>2017</td>\n",
       "      <td>4</td>\n",
       "      <td>1</td>\n",
       "      <td>11</td>\n",
       "      <td>48</td>\n",
       "      <td>175</td>\n",
       "      <td>80</td>\n",
       "      <td>91.0</td>\n",
       "      <td>1.5</td>\n",
       "      <td>1.2</td>\n",
       "      <td>...</td>\n",
       "      <td>1.0</td>\n",
       "      <td>N</td>\n",
       "      <td>Y</td>\n",
       "      <td>NaN</td>\n",
       "      <td>NaN</td>\n",
       "      <td>NaN</td>\n",
       "      <td>NaN</td>\n",
       "      <td>N</td>\n",
       "      <td>2018-11-26</td>\n",
       "      <td>50~54세</td>\n",
       "    </tr>\n",
       "    <tr>\n",
       "      <th>4</th>\n",
       "      <td>2017</td>\n",
       "      <td>5</td>\n",
       "      <td>1</td>\n",
       "      <td>11</td>\n",
       "      <td>30</td>\n",
       "      <td>165</td>\n",
       "      <td>60</td>\n",
       "      <td>80.0</td>\n",
       "      <td>1.0</td>\n",
       "      <td>1.2</td>\n",
       "      <td>...</td>\n",
       "      <td>1.0</td>\n",
       "      <td>N</td>\n",
       "      <td>Y</td>\n",
       "      <td>NaN</td>\n",
       "      <td>NaN</td>\n",
       "      <td>NaN</td>\n",
       "      <td>NaN</td>\n",
       "      <td>N</td>\n",
       "      <td>2018-11-26</td>\n",
       "      <td>50~54세</td>\n",
       "    </tr>\n",
       "    <tr>\n",
       "      <th>...</th>\n",
       "      <td>...</td>\n",
       "      <td>...</td>\n",
       "      <td>...</td>\n",
       "      <td>...</td>\n",
       "      <td>...</td>\n",
       "      <td>...</td>\n",
       "      <td>...</td>\n",
       "      <td>...</td>\n",
       "      <td>...</td>\n",
       "      <td>...</td>\n",
       "      <td>...</td>\n",
       "      <td>...</td>\n",
       "      <td>...</td>\n",
       "      <td>...</td>\n",
       "      <td>...</td>\n",
       "      <td>...</td>\n",
       "      <td>...</td>\n",
       "      <td>...</td>\n",
       "      <td>...</td>\n",
       "      <td>...</td>\n",
       "      <td>...</td>\n",
       "    </tr>\n",
       "    <tr>\n",
       "      <th>999995</th>\n",
       "      <td>2017</td>\n",
       "      <td>999996</td>\n",
       "      <td>1</td>\n",
       "      <td>10</td>\n",
       "      <td>48</td>\n",
       "      <td>175</td>\n",
       "      <td>80</td>\n",
       "      <td>92.1</td>\n",
       "      <td>1.5</td>\n",
       "      <td>1.5</td>\n",
       "      <td>...</td>\n",
       "      <td>1.0</td>\n",
       "      <td>N</td>\n",
       "      <td>N</td>\n",
       "      <td>NaN</td>\n",
       "      <td>NaN</td>\n",
       "      <td>NaN</td>\n",
       "      <td>NaN</td>\n",
       "      <td>NaN</td>\n",
       "      <td>2018-11-26</td>\n",
       "      <td>45~49세</td>\n",
       "    </tr>\n",
       "    <tr>\n",
       "      <th>999996</th>\n",
       "      <td>2017</td>\n",
       "      <td>999997</td>\n",
       "      <td>1</td>\n",
       "      <td>8</td>\n",
       "      <td>41</td>\n",
       "      <td>170</td>\n",
       "      <td>75</td>\n",
       "      <td>86.0</td>\n",
       "      <td>1.0</td>\n",
       "      <td>1.5</td>\n",
       "      <td>...</td>\n",
       "      <td>1.0</td>\n",
       "      <td>N</td>\n",
       "      <td>N</td>\n",
       "      <td>NaN</td>\n",
       "      <td>NaN</td>\n",
       "      <td>NaN</td>\n",
       "      <td>NaN</td>\n",
       "      <td>NaN</td>\n",
       "      <td>2018-11-26</td>\n",
       "      <td>35~39세</td>\n",
       "    </tr>\n",
       "    <tr>\n",
       "      <th>999997</th>\n",
       "      <td>2017</td>\n",
       "      <td>999998</td>\n",
       "      <td>2</td>\n",
       "      <td>9</td>\n",
       "      <td>26</td>\n",
       "      <td>155</td>\n",
       "      <td>50</td>\n",
       "      <td>68.0</td>\n",
       "      <td>1.0</td>\n",
       "      <td>0.7</td>\n",
       "      <td>...</td>\n",
       "      <td>3.0</td>\n",
       "      <td>Y</td>\n",
       "      <td>N</td>\n",
       "      <td>NaN</td>\n",
       "      <td>NaN</td>\n",
       "      <td>NaN</td>\n",
       "      <td>NaN</td>\n",
       "      <td>NaN</td>\n",
       "      <td>2018-11-26</td>\n",
       "      <td>40~44세</td>\n",
       "    </tr>\n",
       "    <tr>\n",
       "      <th>999998</th>\n",
       "      <td>2017</td>\n",
       "      <td>999999</td>\n",
       "      <td>1</td>\n",
       "      <td>6</td>\n",
       "      <td>29</td>\n",
       "      <td>175</td>\n",
       "      <td>60</td>\n",
       "      <td>72.0</td>\n",
       "      <td>1.5</td>\n",
       "      <td>1.0</td>\n",
       "      <td>...</td>\n",
       "      <td>1.0</td>\n",
       "      <td>N</td>\n",
       "      <td>N</td>\n",
       "      <td>NaN</td>\n",
       "      <td>NaN</td>\n",
       "      <td>NaN</td>\n",
       "      <td>NaN</td>\n",
       "      <td>NaN</td>\n",
       "      <td>2018-11-26</td>\n",
       "      <td>25~29세</td>\n",
       "    </tr>\n",
       "    <tr>\n",
       "      <th>999999</th>\n",
       "      <td>2017</td>\n",
       "      <td>1000000</td>\n",
       "      <td>1</td>\n",
       "      <td>11</td>\n",
       "      <td>41</td>\n",
       "      <td>160</td>\n",
       "      <td>70</td>\n",
       "      <td>90.5</td>\n",
       "      <td>1.0</td>\n",
       "      <td>1.5</td>\n",
       "      <td>...</td>\n",
       "      <td>3.0</td>\n",
       "      <td>Y</td>\n",
       "      <td>N</td>\n",
       "      <td>NaN</td>\n",
       "      <td>NaN</td>\n",
       "      <td>NaN</td>\n",
       "      <td>NaN</td>\n",
       "      <td>NaN</td>\n",
       "      <td>2018-11-26</td>\n",
       "      <td>50~54세</td>\n",
       "    </tr>\n",
       "  </tbody>\n",
       "</table>\n",
       "<p>1000000 rows × 35 columns</p>\n",
       "</div>"
      ],
      "text/plain": [
       "        기준년도  가입자일련번호  성별코드  연령대코드(5세단위)  시도코드  신장(5Cm단위)  체중(5Kg단위)  허리둘레  \\\n",
       "0       2017        1     1            8    43        170         75  90.0   \n",
       "1       2017        2     1            7    11        180         80  89.0   \n",
       "2       2017        3     1            9    41        165         75  91.0   \n",
       "3       2017        4     1           11    48        175         80  91.0   \n",
       "4       2017        5     1           11    30        165         60  80.0   \n",
       "...      ...      ...   ...          ...   ...        ...        ...   ...   \n",
       "999995  2017   999996     1           10    48        175         80  92.1   \n",
       "999996  2017   999997     1            8    41        170         75  86.0   \n",
       "999997  2017   999998     2            9    26        155         50  68.0   \n",
       "999998  2017   999999     1            6    29        175         60  72.0   \n",
       "999999  2017  1000000     1           11    41        160         70  90.5   \n",
       "\n",
       "        시력(좌)  시력(우)  ...  흡연상태  음주여부  구강검진수검여부  치아우식증유무  결손치유무  치아마모증유무  \\\n",
       "0         1.0    1.0  ...   1.0     Y         Y      NaN    NaN      NaN   \n",
       "1         0.9    1.2  ...   3.0     N         Y      NaN    NaN      NaN   \n",
       "2         1.2    1.5  ...   1.0     N         N      NaN    NaN      NaN   \n",
       "3         1.5    1.2  ...   1.0     N         Y      NaN    NaN      NaN   \n",
       "4         1.0    1.2  ...   1.0     N         Y      NaN    NaN      NaN   \n",
       "...       ...    ...  ...   ...   ...       ...      ...    ...      ...   \n",
       "999995    1.5    1.5  ...   1.0     N         N      NaN    NaN      NaN   \n",
       "999996    1.0    1.5  ...   1.0     N         N      NaN    NaN      NaN   \n",
       "999997    1.0    0.7  ...   3.0     Y         N      NaN    NaN      NaN   \n",
       "999998    1.5    1.0  ...   1.0     N         N      NaN    NaN      NaN   \n",
       "999999    1.0    1.5  ...   3.0     Y         N      NaN    NaN      NaN   \n",
       "\n",
       "        제3대구치(사랑니)이상   치석     데이터공개일자     연령대  \n",
       "0                NaN    Y  2018-11-26  35~39세  \n",
       "1                NaN  NaN  2018-11-26  30~34세  \n",
       "2                NaN  NaN  2018-11-26  40~44세  \n",
       "3                NaN    N  2018-11-26  50~54세  \n",
       "4                NaN    N  2018-11-26  50~54세  \n",
       "...              ...  ...         ...     ...  \n",
       "999995           NaN  NaN  2018-11-26  45~49세  \n",
       "999996           NaN  NaN  2018-11-26  35~39세  \n",
       "999997           NaN  NaN  2018-11-26  40~44세  \n",
       "999998           NaN  NaN  2018-11-26  25~29세  \n",
       "999999           NaN  NaN  2018-11-26  50~54세  \n",
       "\n",
       "[1000000 rows x 35 columns]"
      ]
     },
     "execution_count": 52,
     "metadata": {},
     "output_type": "execute_result"
    }
   ],
   "source": [
    "df"
   ]
  },
  {
   "cell_type": "code",
   "execution_count": 80,
   "id": "d438f36d-19bb-4f51-b31b-ffafe90283ab",
   "metadata": {},
   "outputs": [
    {
     "data": {
      "text/html": [
       "<div>\n",
       "<style scoped>\n",
       "    .dataframe tbody tr th:only-of-type {\n",
       "        vertical-align: middle;\n",
       "    }\n",
       "\n",
       "    .dataframe tbody tr th {\n",
       "        vertical-align: top;\n",
       "    }\n",
       "\n",
       "    .dataframe thead th {\n",
       "        text-align: right;\n",
       "    }\n",
       "</style>\n",
       "<table border=\"1\" class=\"dataframe\">\n",
       "  <thead>\n",
       "    <tr style=\"text-align: right;\">\n",
       "      <th></th>\n",
       "      <th>count</th>\n",
       "      <th>mean</th>\n",
       "      <th>std</th>\n",
       "      <th>min</th>\n",
       "      <th>25%</th>\n",
       "      <th>50%</th>\n",
       "      <th>75%</th>\n",
       "      <th>max</th>\n",
       "    </tr>\n",
       "    <tr>\n",
       "      <th>연령대</th>\n",
       "      <th></th>\n",
       "      <th></th>\n",
       "      <th></th>\n",
       "      <th></th>\n",
       "      <th></th>\n",
       "      <th></th>\n",
       "      <th></th>\n",
       "      <th></th>\n",
       "    </tr>\n",
       "  </thead>\n",
       "  <tbody>\n",
       "    <tr>\n",
       "      <th>20~24세</th>\n",
       "      <td>22124.0</td>\n",
       "      <td>74.392908</td>\n",
       "      <td>11.496285</td>\n",
       "      <td>27.0</td>\n",
       "      <td>67.0</td>\n",
       "      <td>73.0</td>\n",
       "      <td>80.0</td>\n",
       "      <td>999.0</td>\n",
       "    </tr>\n",
       "    <tr>\n",
       "      <th>25~29세</th>\n",
       "      <td>64798.0</td>\n",
       "      <td>77.401255</td>\n",
       "      <td>16.459090</td>\n",
       "      <td>49.0</td>\n",
       "      <td>69.0</td>\n",
       "      <td>76.0</td>\n",
       "      <td>84.0</td>\n",
       "      <td>999.0</td>\n",
       "    </tr>\n",
       "    <tr>\n",
       "      <th>30~34세</th>\n",
       "      <td>78115.0</td>\n",
       "      <td>80.690592</td>\n",
       "      <td>21.759045</td>\n",
       "      <td>40.0</td>\n",
       "      <td>72.0</td>\n",
       "      <td>80.0</td>\n",
       "      <td>87.1</td>\n",
       "      <td>999.0</td>\n",
       "    </tr>\n",
       "    <tr>\n",
       "      <th>35~39세</th>\n",
       "      <td>85210.0</td>\n",
       "      <td>81.973645</td>\n",
       "      <td>14.326639</td>\n",
       "      <td>51.2</td>\n",
       "      <td>74.5</td>\n",
       "      <td>82.0</td>\n",
       "      <td>89.0</td>\n",
       "      <td>999.0</td>\n",
       "    </tr>\n",
       "    <tr>\n",
       "      <th>40~44세</th>\n",
       "      <td>131227.0</td>\n",
       "      <td>80.368061</td>\n",
       "      <td>10.358197</td>\n",
       "      <td>50.0</td>\n",
       "      <td>73.0</td>\n",
       "      <td>80.0</td>\n",
       "      <td>87.0</td>\n",
       "      <td>999.0</td>\n",
       "    </tr>\n",
       "    <tr>\n",
       "      <th>45~49세</th>\n",
       "      <td>118963.0</td>\n",
       "      <td>80.687879</td>\n",
       "      <td>9.398830</td>\n",
       "      <td>42.0</td>\n",
       "      <td>74.0</td>\n",
       "      <td>81.0</td>\n",
       "      <td>87.0</td>\n",
       "      <td>126.6</td>\n",
       "    </tr>\n",
       "    <tr>\n",
       "      <th>50~54세</th>\n",
       "      <td>129764.0</td>\n",
       "      <td>81.010692</td>\n",
       "      <td>8.954744</td>\n",
       "      <td>32.0</td>\n",
       "      <td>74.9</td>\n",
       "      <td>81.0</td>\n",
       "      <td>87.0</td>\n",
       "      <td>129.0</td>\n",
       "    </tr>\n",
       "    <tr>\n",
       "      <th>55~59세</th>\n",
       "      <td>111341.0</td>\n",
       "      <td>81.744612</td>\n",
       "      <td>8.623719</td>\n",
       "      <td>32.0</td>\n",
       "      <td>76.0</td>\n",
       "      <td>82.0</td>\n",
       "      <td>87.5</td>\n",
       "      <td>130.5</td>\n",
       "    </tr>\n",
       "    <tr>\n",
       "      <th>60~64세</th>\n",
       "      <td>105983.0</td>\n",
       "      <td>82.659791</td>\n",
       "      <td>8.522450</td>\n",
       "      <td>52.0</td>\n",
       "      <td>77.0</td>\n",
       "      <td>82.5</td>\n",
       "      <td>88.0</td>\n",
       "      <td>149.1</td>\n",
       "    </tr>\n",
       "    <tr>\n",
       "      <th>65~69세</th>\n",
       "      <td>52761.0</td>\n",
       "      <td>83.500665</td>\n",
       "      <td>8.229313</td>\n",
       "      <td>52.0</td>\n",
       "      <td>78.0</td>\n",
       "      <td>83.2</td>\n",
       "      <td>89.0</td>\n",
       "      <td>129.0</td>\n",
       "    </tr>\n",
       "    <tr>\n",
       "      <th>70~74세</th>\n",
       "      <td>50264.0</td>\n",
       "      <td>83.984701</td>\n",
       "      <td>8.327020</td>\n",
       "      <td>51.0</td>\n",
       "      <td>78.2</td>\n",
       "      <td>84.0</td>\n",
       "      <td>89.5</td>\n",
       "      <td>120.0</td>\n",
       "    </tr>\n",
       "    <tr>\n",
       "      <th>75~79세</th>\n",
       "      <td>25133.0</td>\n",
       "      <td>84.144201</td>\n",
       "      <td>8.471809</td>\n",
       "      <td>8.0</td>\n",
       "      <td>79.0</td>\n",
       "      <td>84.0</td>\n",
       "      <td>90.0</td>\n",
       "      <td>135.0</td>\n",
       "    </tr>\n",
       "    <tr>\n",
       "      <th>80~84세</th>\n",
       "      <td>14893.0</td>\n",
       "      <td>83.447835</td>\n",
       "      <td>8.767518</td>\n",
       "      <td>30.0</td>\n",
       "      <td>78.0</td>\n",
       "      <td>83.5</td>\n",
       "      <td>89.0</td>\n",
       "      <td>120.0</td>\n",
       "    </tr>\n",
       "    <tr>\n",
       "      <th>85세+</th>\n",
       "      <td>3315.0</td>\n",
       "      <td>80.951192</td>\n",
       "      <td>8.996845</td>\n",
       "      <td>48.0</td>\n",
       "      <td>75.0</td>\n",
       "      <td>81.0</td>\n",
       "      <td>87.0</td>\n",
       "      <td>110.0</td>\n",
       "    </tr>\n",
       "  </tbody>\n",
       "</table>\n",
       "</div>"
      ],
      "text/plain": [
       "           count       mean        std   min   25%   50%   75%    max\n",
       "연령대                                                                  \n",
       "20~24세   22124.0  74.392908  11.496285  27.0  67.0  73.0  80.0  999.0\n",
       "25~29세   64798.0  77.401255  16.459090  49.0  69.0  76.0  84.0  999.0\n",
       "30~34세   78115.0  80.690592  21.759045  40.0  72.0  80.0  87.1  999.0\n",
       "35~39세   85210.0  81.973645  14.326639  51.2  74.5  82.0  89.0  999.0\n",
       "40~44세  131227.0  80.368061  10.358197  50.0  73.0  80.0  87.0  999.0\n",
       "45~49세  118963.0  80.687879   9.398830  42.0  74.0  81.0  87.0  126.6\n",
       "50~54세  129764.0  81.010692   8.954744  32.0  74.9  81.0  87.0  129.0\n",
       "55~59세  111341.0  81.744612   8.623719  32.0  76.0  82.0  87.5  130.5\n",
       "60~64세  105983.0  82.659791   8.522450  52.0  77.0  82.5  88.0  149.1\n",
       "65~69세   52761.0  83.500665   8.229313  52.0  78.0  83.2  89.0  129.0\n",
       "70~74세   50264.0  83.984701   8.327020  51.0  78.2  84.0  89.5  120.0\n",
       "75~79세   25133.0  84.144201   8.471809   8.0  79.0  84.0  90.0  135.0\n",
       "80~84세   14893.0  83.447835   8.767518  30.0  78.0  83.5  89.0  120.0\n",
       "85세+      3315.0  80.951192   8.996845  48.0  75.0  81.0  87.0  110.0"
      ]
     },
     "execution_count": 80,
     "metadata": {},
     "output_type": "execute_result"
    }
   ],
   "source": [
    "df.groupby(\"연령대\")[\"허리둘레\"].describe()"
   ]
  },
  {
   "cell_type": "markdown",
   "id": "683482a9-9e84-42d1-8c00-742c9f08f051",
   "metadata": {},
   "source": [
    "## Q2. \"음주여부\", \"흡연상태\", \"연령대코드(5세단위)\", \"성별코드\"에 대한 상관계수를 구하고 시각화 해주세요.\n",
    "\n",
    "- 다음의 결과가 나오도록 합니다. 이 때 그래프의 색상, 스타일 표현방식에 차이가 있더라도 상관계수값이 차이가 없다면 문제 없습니다."
   ]
  },
  {
   "cell_type": "code",
   "execution_count": 54,
   "id": "fb88dd45-15eb-4166-932a-64458d21b815",
   "metadata": {},
   "outputs": [],
   "source": [
    "df[\"음주여부\"] = df[\"음주여부\"].map({\"Y\":1,\"N\":0})"
   ]
  },
  {
   "cell_type": "code",
   "execution_count": 55,
   "id": "6eb197dd-097b-4ef5-b861-6587a1e3f085",
   "metadata": {},
   "outputs": [],
   "source": [
    "df1 = df[[\"음주여부\",\"흡연상태\",\"연령대코드(5세단위)\",\"성별코드\"]]"
   ]
  },
  {
   "cell_type": "code",
   "execution_count": 56,
   "id": "3b2a7bb6-8c7c-4084-955a-abe4e2252059",
   "metadata": {},
   "outputs": [],
   "source": [
    "df1_corr = df1.corr()"
   ]
  },
  {
   "cell_type": "code",
   "execution_count": 57,
   "id": "87e026cf-ee31-4461-b105-dcfe07f049f6",
   "metadata": {},
   "outputs": [
    {
     "data": {
      "text/html": [
       "<div>\n",
       "<style scoped>\n",
       "    .dataframe tbody tr th:only-of-type {\n",
       "        vertical-align: middle;\n",
       "    }\n",
       "\n",
       "    .dataframe tbody tr th {\n",
       "        vertical-align: top;\n",
       "    }\n",
       "\n",
       "    .dataframe thead th {\n",
       "        text-align: right;\n",
       "    }\n",
       "</style>\n",
       "<table border=\"1\" class=\"dataframe\">\n",
       "  <thead>\n",
       "    <tr style=\"text-align: right;\">\n",
       "      <th></th>\n",
       "      <th>음주여부</th>\n",
       "      <th>흡연상태</th>\n",
       "      <th>연령대코드(5세단위)</th>\n",
       "      <th>성별코드</th>\n",
       "    </tr>\n",
       "  </thead>\n",
       "  <tbody>\n",
       "    <tr>\n",
       "      <th>음주여부</th>\n",
       "      <td>1.000000</td>\n",
       "      <td>0.350928</td>\n",
       "      <td>-0.284924</td>\n",
       "      <td>-0.368333</td>\n",
       "    </tr>\n",
       "    <tr>\n",
       "      <th>흡연상태</th>\n",
       "      <td>0.350928</td>\n",
       "      <td>1.000000</td>\n",
       "      <td>-0.125710</td>\n",
       "      <td>-0.591158</td>\n",
       "    </tr>\n",
       "    <tr>\n",
       "      <th>연령대코드(5세단위)</th>\n",
       "      <td>-0.284924</td>\n",
       "      <td>-0.125710</td>\n",
       "      <td>1.000000</td>\n",
       "      <td>0.081764</td>\n",
       "    </tr>\n",
       "    <tr>\n",
       "      <th>성별코드</th>\n",
       "      <td>-0.368333</td>\n",
       "      <td>-0.591158</td>\n",
       "      <td>0.081764</td>\n",
       "      <td>1.000000</td>\n",
       "    </tr>\n",
       "  </tbody>\n",
       "</table>\n",
       "</div>"
      ],
      "text/plain": [
       "                 음주여부      흡연상태  연령대코드(5세단위)      성별코드\n",
       "음주여부         1.000000  0.350928    -0.284924 -0.368333\n",
       "흡연상태         0.350928  1.000000    -0.125710 -0.591158\n",
       "연령대코드(5세단위) -0.284924 -0.125710     1.000000  0.081764\n",
       "성별코드        -0.368333 -0.591158     0.081764  1.000000"
      ]
     },
     "execution_count": 57,
     "metadata": {},
     "output_type": "execute_result"
    }
   ],
   "source": [
    "df1_corr"
   ]
  },
  {
   "cell_type": "code",
   "execution_count": 58,
   "id": "479809e1-4451-4613-9a36-dddfb9dc81b4",
   "metadata": {},
   "outputs": [
    {
     "data": {
      "text/plain": [
       "<AxesSubplot: >"
      ]
     },
     "execution_count": 58,
     "metadata": {},
     "output_type": "execute_result"
    },
    {
     "data": {
      "image/png": "[encoded data removed]",
      "text/plain": [
       "<Figure size 640x480 with 2 Axes>"
      ]
     },
     "metadata": {},
     "output_type": "display_data"
    }
   ],
   "source": [
    "sns.heatmap(df1_corr)"
   ]
  },
  {
   "cell_type": "code",
   "execution_count": 59,
   "id": "5a0a7e45-b6a3-4f08-8fc6-0c643e639ec3",
   "metadata": {},
   "outputs": [],
   "source": [
    "mask=np.triu(np.ones_like(df1_corr,dtype=bool))"
   ]
  },
  {
   "cell_type": "code",
   "execution_count": 60,
   "id": "8a61fb85-5c0c-424a-8599-07ae12702d9d",
   "metadata": {},
   "outputs": [
    {
     "data": {
      "text/plain": [
       "<AxesSubplot: >"
      ]
     },
     "execution_count": 60,
     "metadata": {},
     "output_type": "execute_result"
    },
    {
     "data": {
      "image/png": "[encoded data removed]",
      "text/plain": [
       "<Figure size 640x480 with 2 Axes>"
      ]
     },
     "metadata": {},
     "output_type": "display_data"
    }
   ],
   "source": [
    "sns.heatmap(df1_corr,annot=True,fmt=\".2\",cmap=\"coolwarm\",mask=mask)"
   ]
  },
  {
   "cell_type": "markdown",
   "id": "62eb464e-b9c0-4a79-9a5d-880730c00701",
   "metadata": {},
   "source": [
    "## Q3. 흡연하는 사람과 음주하는 사람들의 수는 얼마나 차이가 있을까요?\n",
    "\n",
    "- 건강보험에서 제공하고 있는 데이터는 용량을 줄이기 위해 대부분의 데이터를 숫자 형태로 제공하고 있습니다. replace 기능을 사용하면 딕셔너리의 값을 의미하는 문자 형태로 변경해 볼 수 있습니다. 다음 제공되는 딕셔너리 값을 사용하여 숫자가 의미하는 문자 형태로 변경한 뒤 전체 데이터에서 음주와 흡연에 대한 교차 테이블을 구해 각 해당 빈도수를 구하고 시각화 해주세요!"
   ]
  },
  {
   "cell_type": "code",
   "execution_count": 61,
   "id": "02b0698d-50b5-4414-869f-d3e0a7840190",
   "metadata": {},
   "outputs": [],
   "source": [
    "smoke = {1 : \"흡연안함\", 2: \"끊음\", 3: \"흡연중\"}\n",
    "drink = {0: \"안마심\", 1: \"마심\"}"
   ]
  },
  {
   "cell_type": "code",
   "execution_count": 62,
   "id": "de5dc6fd-305d-4c60-b523-a4fb3e899a0f",
   "metadata": {},
   "outputs": [
    {
     "data": {
      "text/plain": [
       "Index(['기준년도', '가입자일련번호', '성별코드', '연령대코드(5세단위)', '시도코드', '신장(5Cm단위)',\n",
       "       '체중(5Kg단위)', '허리둘레', '시력(좌)', '시력(우)', '청력(좌)', '청력(우)', '수축기혈압',\n",
       "       '이완기혈압', '식전혈당(공복혈당)', '총콜레스테롤', '트리글리세라이드', 'HDL콜레스테롤', 'LDL콜레스테롤',\n",
       "       '혈색소', '요단백', '혈청크레아티닌', '(혈청지오티)AST', '(혈청지오티)ALT', '감마지티피', '흡연상태',\n",
       "       '음주여부', '구강검진수검여부', '치아우식증유무', '결손치유무', '치아마모증유무', '제3대구치(사랑니)이상', '치석',\n",
       "       '데이터공개일자', '연령대'],\n",
       "      dtype='object')"
      ]
     },
     "execution_count": 62,
     "metadata": {},
     "output_type": "execute_result"
    }
   ],
   "source": [
    "df.columns"
   ]
  },
  {
   "cell_type": "code",
   "execution_count": 63,
   "id": "e0aed5de-ae65-4033-b679-c392ab8ab04b",
   "metadata": {},
   "outputs": [],
   "source": [
    "df[\"흡연상태\"] = df[\"흡연상태\"].map(smoke)"
   ]
  },
  {
   "cell_type": "code",
   "execution_count": 64,
   "id": "9e7db1e3-ed58-40be-845c-b52e17b8f50d",
   "metadata": {},
   "outputs": [],
   "source": [
    "df[\"음주여부\"] = df[\"음주여부\"].map(drink)"
   ]
  },
  {
   "cell_type": "code",
   "execution_count": 84,
   "id": "aa670f07-a298-4e4a-855c-f13f7532f4f5",
   "metadata": {},
   "outputs": [
    {
     "data": {
      "text/plain": [
       "<AxesSubplot: xlabel='흡연상태', ylabel='count'>"
      ]
     },
     "execution_count": 84,
     "metadata": {},
     "output_type": "execute_result"
    },
    {
     "data": {
      "image/png": "[encoded data removed]",
      "text/plain": [
       "<Figure size 640x480 with 1 Axes>"
      ]
     },
     "metadata": {},
     "output_type": "display_data"
    }
   ],
   "source": [
    "sns.countplot(df,x='흡연상태',hue=\"음주여부\",order=[\"흡연중\",\"흡연안함\",\"끊음\"],hue_order=['안마심','마심'])"
   ]
  },
  {
   "cell_type": "markdown",
   "id": "0318d51b-75d7-4700-97bd-f07c90a305f2",
   "metadata": {},
   "source": [
    "## Q4. 체중이 120Kg 이상인 데이터를 찾아 \"총콜레스테롤\", \"감마지티피\" 값을 음주여부에 따라 산점도로 시각화해주세요!\n",
    "\n",
    "-체중이 120Kg 이 넘는다면 비만으로 건강관리가 필요합니다. 120Kg 이상인 데이터를 찾아 \"총콜레스테롤\", \"감마지티피\" 값을 음주여부에 따라 산점도로 시각화해주세요! (이때 120Kg 도 포함되게 구합니다.) 그래프의 설정과 seaborn 버전에 따라 여백이나 회귀선의 시작과 끝점에 차이가 있을 수 있습니다."
   ]
  },
  {
   "cell_type": "code",
   "execution_count": 66,
   "id": "7e5912fb-8b43-4651-90b9-f2ae9520aee1",
   "metadata": {},
   "outputs": [],
   "source": [
    "df_120 = df[df[\"체중(5Kg단위)\"]>=120]"
   ]
  },
  {
   "cell_type": "code",
   "execution_count": 76,
   "id": "fe454257-86f5-4b41-8c7a-9cf3f0ff085c",
   "metadata": {},
   "outputs": [
    {
     "data": {
      "text/plain": [
       "120    239\n",
       "125     81\n",
       "130     43\n",
       "135      5\n",
       "140      3\n",
       "Name: 체중(5Kg단위), dtype: int64"
      ]
     },
     "execution_count": 76,
     "metadata": {},
     "output_type": "execute_result"
    }
   ],
   "source": [
    "df_120['체중(5Kg단위)'].value_counts()"
   ]
  },
  {
   "cell_type": "code",
   "execution_count": 87,
   "id": "171a3c5a-0f00-47f2-b74d-02b9bfdf0fe1",
   "metadata": {},
   "outputs": [
    {
     "data": {
      "text/plain": [
       "(80.0, 550.0)"
      ]
     },
     "execution_count": 87,
     "metadata": {},
     "output_type": "execute_result"
    },
    {
     "data": {
      "image/png": "[encoded data removed]",
      "text/plain": [
       "<Figure size 1000x500 with 2 Axes>"
      ]
     },
     "metadata": {},
     "output_type": "display_data"
    }
   ],
   "source": [
    "sns.lmplot(df_120,x=\"총콜레스테롤\",y=\"감마지티피\",hue=\"음주여부\",col=\"음주여부\")\n",
    "plt.xlim(80,550)"
   ]
  },
  {
   "cell_type": "markdown",
   "id": "6b1add8a-3c71-41aa-bc7f-828341694567",
   "metadata": {},
   "source": [
    "## Q5. 연령대별로 시력은 얼마나 차이가 날까요? 연령대, 성별 좌우 평균 시력을 시각화 해주세요!\n",
    "\n",
    "- 시력은 0.1~2.5 사이의 값으로 표기하며 0.1 이하의 시력은 0.1, 실명은 9.9로 표기합니다.\n",
    "\n",
    "- 실명인 데이터를 평균에 포함하게 되면 시력에 대한 평균을 제대로 구하기 어렵습니다. 실명 데이터를 제외하고 연령대, 성별에 따른 평균 좌우 시력을 구해주세요!\n",
    "\n",
    "- 서브플롯으로 시각화하여 표현해 주고 matplotlib 에 대한 사용법은 다음의 영상도 함께 참고해 주세요! (https://www.youtube.com/watch?v=ZTRKojTLE8M)\n",
    "\n",
    "- 시각화 예시는 참고사항으로 스타일이나 폰트 구성이 달라도 연령대, 성별 좌우평균시력을 시각화 하면 됩니다."
   ]
  },
  {
   "cell_type": "code",
   "execution_count": 73,
   "id": "61e7304e-9f61-47ca-a88b-3c1477064048",
   "metadata": {},
   "outputs": [],
   "source": [
    "df = df.drop(df[df['시력(좌)']==9.9].index)\n",
    "df = df.drop(df[df['시력(우)']==9.9].index)"
   ]
  },
  {
   "cell_type": "code",
   "execution_count": 74,
   "id": "eb3e016f-9733-404c-9600-1ff8c9782458",
   "metadata": {},
   "outputs": [
    {
     "data": {
      "image/png": "[encoded data removed]",
      "text/plain": [
       "<Figure size 1400x800 with 2 Axes>"
      ]
     },
     "metadata": {},
     "output_type": "display_data"
    }
   ],
   "source": [
    "plt.figure(figsize=(14,8))\n",
    "plt.subplot(2,2,1)\n",
    "sns.barplot(df,x=\"시력(좌)\",y=\"연령대\",hue='성별코드',errorbar=None,order=df[\"연령대\"].value_counts().index.sort_values())\n",
    "plt.xlim(0,1.5)\n",
    "plt.subplot(2,2,2)\n",
    "sns.barplot(df,x=\"시력(우)\",y=\"연령대\",hue='성별코드',errorbar=None,order=df[\"연령대\"].value_counts().index.sort_values())\n",
    "plt.xlim(0,1.5)\n",
    "plt.show()"
   ]
  },
  {
   "cell_type": "code",
   "execution_count": 71,
   "id": "a452d305-1291-47b1-88a9-0821b08dffee",
   "metadata": {},
   "outputs": [],
   "source": []
  },
  {
   "cell_type": "code",
   "execution_count": null,
   "id": "b12fba69-c1e1-454d-ae8e-a1d9998c61e8",
   "metadata": {},
   "outputs": [],
   "source": []
  }
 ],
 "metadata": {
  "kernelspec": {
   "display_name": "Python 3 (ipykernel)",
   "language": "python",
   "name": "python3"
  },
  "language_info": {
   "codemirror_mode": {
    "name": "ipython",
    "version": 3
   },
   "file_extension": ".py",
   "mimetype": "text/x-python",
   "name": "python",
   "nbconvert_exporter": "python",
   "pygments_lexer": "ipython3",
   "version": "3.9.12"
  }
 },
 "nbformat": 4,
 "nbformat_minor": 5
}
