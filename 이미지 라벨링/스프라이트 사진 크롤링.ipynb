{
 "cells": [
  {
   "cell_type": "code",
   "execution_count": 9,
   "id": "35462ee5-cbf5-4edc-9ed9-f1c547bf7630",
   "metadata": {},
   "outputs": [],
   "source": [
    "from selenium import webdriver\n",
    "from urllib.request import urlopen\n",
    "from selenium.webdriver.common.keys import Keys\n",
    "import time\n",
    "import urllib.request\n",
    "import os"
   ]
  },
  {
   "cell_type": "code",
   "execution_count": 10,
   "id": "605b0ba5-9f2a-4b31-85e2-bffa8c0a28db",
   "metadata": {},
   "outputs": [],
   "source": [
    "import selenium\n",
    "from selenium import webdriver\n",
    "from selenium.webdriver import ActionChains\n",
    "\n",
    "from selenium.webdriver.common.keys import Keys\n",
    "from selenium.webdriver.common.by import By\n",
    "\n",
    "from selenium.webdriver.support import expected_conditions as EC\n",
    "from selenium.webdriver.support.ui import Select\n",
    "from selenium.webdriver.support.ui import WebDriverWait"
   ]
  },
  {
   "cell_type": "code",
   "execution_count": 3,
   "id": "e3e680c5-afc3-4d1f-a6ad-08b23d210863",
   "metadata": {},
   "outputs": [],
   "source": [
    "# 현제 작업 디렉토리에 '스프라이트' 폴더가 없으면\n",
    "# '스프라이트 폴더를 만든다.\n",
    "if not os.path.isdir('스프라이트/'):\n",
    "    os.makedirs('스프라이트/')"
   ]
  },
  {
   "cell_type": "code",
   "execution_count": 18,
   "id": "aa00a748-72cb-49bb-8c02-a1ed1cb8aa1f",
   "metadata": {},
   "outputs": [
    {
     "name": "stdout",
     "output_type": "stream",
     "text": [
      "Image saved: 스프라이트_1.jpg\n",
      "Image saved: 스프라이트_2.jpg\n",
      "Image saved: 스프라이트_3.jpg\n",
      "Image saved: 스프라이트_4.jpg\n",
      "Image saved: 스프라이트_5.jpg\n",
      "Image saved: 스프라이트_6.jpg\n",
      "Image saved: 스프라이트_7.jpg\n",
      "Image saved: 스프라이트_8.jpg\n",
      "Image saved: 스프라이트_9.jpg\n",
      "Image saved: 스프라이트_10.jpg\n",
      "Image saved: 스프라이트_11.jpg\n",
      "Image saved: 스프라이트_12.jpg\n",
      "Image saved: 스프라이트_13.jpg\n",
      "Image saved: 스프라이트_14.jpg\n",
      "Image saved: 스프라이트_15.jpg\n",
      "Image saved: 스프라이트_16.jpg\n",
      "Image saved: 스프라이트_17.jpg\n",
      "Image saved: 스프라이트_18.jpg\n",
      "Image saved: 스프라이트_19.jpg\n",
      "Image saved: 스프라이트_20.jpg\n",
      "Image saved: 스프라이트_21.jpg\n",
      "Image saved: 스프라이트_22.jpg\n",
      "Image saved: 스프라이트_23.jpg\n",
      "Image saved: 스프라이트_24.jpg\n",
      "Image saved: 스프라이트_25.jpg\n",
      "Image saved: 스프라이트_26.jpg\n",
      "Image saved: 스프라이트_27.jpg\n",
      "Image saved: 스프라이트_28.jpg\n",
      "Image saved: 스프라이트_29.jpg\n",
      "Image saved: 스프라이트_30.jpg\n",
      "Image saved: 스프라이트_31.jpg\n",
      "Image saved: 스프라이트_32.jpg\n",
      "Image saved: 스프라이트_33.jpg\n",
      "Image saved: 스프라이트_34.jpg\n",
      "Image saved: 스프라이트_35.jpg\n",
      "Image saved: 스프라이트_36.jpg\n",
      "Image saved: 스프라이트_37.jpg\n",
      "Image saved: 스프라이트_38.jpg\n",
      "Image saved: 스프라이트_39.jpg\n",
      "Image saved: 스프라이트_40.jpg\n",
      "Image saved: 스프라이트_41.jpg\n",
      "Image saved: 스프라이트_42.jpg\n",
      "Image saved: 스프라이트_43.jpg\n",
      "Image saved: 스프라이트_44.jpg\n",
      "Image saved: 스프라이트_45.jpg\n",
      "Image saved: 스프라이트_46.jpg\n"
     ]
    }
   ],
   "source": [
    "driver = webdriver.Chrome()\n",
    "driver.get('https://www.google.co.kr/imghp?hl=ko&tab=ri&authuser=0&ogbl')\n",
    "search = '스프라이트'\n",
    "sear_box = driver.find_element(By.NAME,'q')\n",
    "sear_box.send_keys(search)\n",
    "sear_box.send_keys(Keys.RETURN)\n",
    "\n",
    "images = driver.find_elements(By.CSS_SELECTOR,\".rg_i.Q4LuWd\")\n",
    "count = 1\n",
    "\n",
    "for image in images:\n",
    "    try:\n",
    "        image.click()\n",
    "        time.sleep(2)\n",
    "        imgUrl = driver.find_element(By.XPATH,'//*[@id=\"Sva75c\"]/div[2]/div/div[2]/div[2]/div[2]/c-wiz/div/div[1]/div[2]/div[2]/div/a/img').get_attribute('src')\n",
    "        urllib.request.urlretrieve(imgUrl, \"스프라이트/\" + search + \"_\" + str(count) + \".jpg\")\n",
    "        print(\"Image saved: 스프라이트_{}.jpg\".format(count))\n",
    "        count += 1\n",
    "    except:\n",
    "        pass\n",
    "driver.close()"
   ]
  },
  {
   "cell_type": "code",
   "execution_count": 19,
   "id": "8106e736-a442-4511-8a5a-481a4cf787bc",
   "metadata": {},
   "outputs": [
    {
     "name": "stdout",
     "output_type": "stream",
     "text": [
      "Collecting yolo\n",
      "  Downloading yolo-0.3.2-py3-none-any.whl (56 kB)\n",
      "Collecting keyring==8.7.0\n",
      "  Downloading keyring-8.7-py2.py3-none-any.whl (33 kB)\n",
      "Collecting tabulate\n",
      "  Downloading tabulate-0.9.0-py3-none-any.whl (35 kB)\n",
      "Requirement already satisfied: requests in c:\\users\\inab1\\miniconda3\\lib\\site-packages (from yolo) (2.28.1)\n",
      "Collecting keyrings.alt\n",
      "  Downloading keyrings.alt-4.2.0-py3-none-any.whl (20 kB)\n",
      "Collecting botocore>=1.7.18\n",
      "  Downloading botocore-1.29.88-py3-none-any.whl (10.5 MB)\n",
      "Collecting boto3\n",
      "  Downloading boto3-1.26.88-py3-none-any.whl (134 kB)\n",
      "Collecting voluptuous\n",
      "  Downloading voluptuous-0.13.1-py3-none-any.whl (29 kB)\n",
      "Requirement already satisfied: jinja2 in c:\\users\\inab1\\miniconda3\\lib\\site-packages (from yolo) (3.1.2)\n",
      "Collecting docker==3.4.0\n",
      "  Downloading docker-3.4.0-py2.py3-none-any.whl (122 kB)\n",
      "Requirement already satisfied: click in c:\\users\\inab1\\miniconda3\\lib\\site-packages (from yolo) (8.1.3)\n",
      "Collecting awscli\n",
      "  Downloading awscli-1.27.88-py3-none-any.whl (4.0 MB)\n",
      "Requirement already satisfied: ruamel.yaml in c:\\users\\inab1\\miniconda3\\lib\\site-packages (from yolo) (0.17.21)\n",
      "Requirement already satisfied: six>=1.4.0 in c:\\users\\inab1\\miniconda3\\lib\\site-packages (from docker==3.4.0->yolo) (1.16.0)\n",
      "INFO: pip is looking at multiple versions of yolo to determine which version is compatible with other requirements. This could take a while.\n",
      "Collecting yolo\n",
      "  Downloading yolo-0.3.1.tar.gz (44 kB)\n",
      "Collecting docker\n",
      "  Downloading docker-6.0.1-py3-none-any.whl (147 kB)\n",
      "Collecting pywin32-ctypes\n",
      "  Using cached pywin32_ctypes-0.2.0-py2.py3-none-any.whl (28 kB)\n",
      "Requirement already satisfied: urllib3<1.27,>=1.25.4 in c:\\users\\inab1\\miniconda3\\lib\\site-packages (from botocore>=1.7.18->yolo) (1.26.8)\n",
      "Requirement already satisfied: python-dateutil<3.0.0,>=2.1 in c:\\users\\inab1\\miniconda3\\lib\\site-packages (from botocore>=1.7.18->yolo) (2.8.2)\n",
      "Collecting jmespath<2.0.0,>=0.7.1\n",
      "  Downloading jmespath-1.0.1-py3-none-any.whl (20 kB)\n",
      "Collecting PyYAML<5.5,>=3.10\n",
      "  Downloading PyYAML-5.4.1-cp39-cp39-win_amd64.whl (213 kB)\n",
      "Collecting docutils<0.17,>=0.10\n",
      "  Downloading docutils-0.16-py2.py3-none-any.whl (548 kB)\n",
      "Collecting s3transfer<0.7.0,>=0.6.0\n",
      "  Downloading s3transfer-0.6.0-py3-none-any.whl (79 kB)\n",
      "Collecting rsa<4.8,>=3.1.2\n",
      "  Downloading rsa-4.7.2-py3-none-any.whl (34 kB)\n",
      "Requirement already satisfied: colorama<0.4.5,>=0.2.5 in c:\\users\\inab1\\miniconda3\\lib\\site-packages (from awscli->yolo) (0.4.4)\n",
      "Collecting pyasn1>=0.1.3\n",
      "  Downloading pyasn1-0.4.8-py2.py3-none-any.whl (77 kB)\n",
      "Collecting pywin32>=304\n",
      "  Downloading pywin32-305-cp39-cp39-win_amd64.whl (12.2 MB)\n",
      "Requirement already satisfied: packaging>=14.0 in c:\\users\\inab1\\miniconda3\\lib\\site-packages (from docker->yolo) (22.0)\n",
      "Requirement already satisfied: websocket-client>=0.32.0 in c:\\users\\inab1\\miniconda3\\lib\\site-packages (from docker->yolo) (1.4.2)\n",
      "Requirement already satisfied: certifi>=2017.4.17 in c:\\users\\inab1\\miniconda3\\lib\\site-packages (from requests->yolo) (2022.12.7)\n",
      "Requirement already satisfied: charset-normalizer<3,>=2 in c:\\users\\inab1\\miniconda3\\lib\\site-packages (from requests->yolo) (2.0.4)\n",
      "Requirement already satisfied: idna<4,>=2.5 in c:\\users\\inab1\\miniconda3\\lib\\site-packages (from requests->yolo) (3.3)\n",
      "Requirement already satisfied: MarkupSafe>=2.0 in c:\\users\\inab1\\miniconda3\\lib\\site-packages (from jinja2->yolo) (2.1.1)\n",
      "Collecting jaraco.classes\n",
      "  Downloading jaraco.classes-3.2.3-py3-none-any.whl (6.0 kB)\n",
      "Collecting more-itertools\n",
      "  Downloading more_itertools-9.1.0-py3-none-any.whl (54 kB)\n",
      "Requirement already satisfied: ruamel.yaml.clib>=0.2.6 in c:\\users\\inab1\\miniconda3\\lib\\site-packages (from ruamel.yaml->yolo) (0.2.6)\n",
      "Building wheels for collected packages: yolo\n",
      "  Building wheel for yolo (setup.py): started\n",
      "  Building wheel for yolo (setup.py): finished with status 'done'\n",
      "  Created wheel for yolo: filename=yolo-0.3.1-py3-none-any.whl size=51883 sha256=7aa6a3febf61c726d85672eeffb82c0e9804be300c33fa4f0d6f7341f717a6c6\n",
      "  Stored in directory: c:\\users\\inab1\\appdata\\local\\pip\\cache\\wheels\\1b\\44\\75\\586ca8179f496e28d96771b5deb9cdfaaa982884c7b8fb5ff8\n",
      "Successfully built yolo\n",
      "Installing collected packages: jmespath, pyasn1, more-itertools, botocore, s3transfer, rsa, PyYAML, pywin32-ctypes, pywin32, jaraco.classes, docutils, voluptuous, tabulate, keyrings.alt, keyring, docker, boto3, awscli, yolo\n",
      "  Attempting uninstall: PyYAML\n",
      "    Found existing installation: PyYAML 6.0\n",
      "    Uninstalling PyYAML-6.0:\n",
      "      Successfully uninstalled PyYAML-6.0\n",
      "Note: you may need to restart the kernel to use updated packages.\n"
     ]
    },
    {
     "name": "stderr",
     "output_type": "stream",
     "text": [
      "ERROR: Could not install packages due to an OSError: [WinError 5] 액세스가 거부되었습니다: 'C:\\\\Users\\\\inab1\\\\miniconda3\\\\Lib\\\\site-packages\\\\~aml\\\\_yaml.cp39-win_amd64.pyd'\n",
      "Consider using the `--user` option or check the permissions.\n",
      "\n"
     ]
    }
   ],
   "source": [
    "pip install yolo"
   ]
  },
  {
   "cell_type": "code",
   "execution_count": null,
   "id": "2bd0cdce-62d2-428e-bbe7-90fa11d2d14c",
   "metadata": {},
   "outputs": [],
   "source": []
  }
 ],
 "metadata": {
  "kernelspec": {
   "display_name": "Python 3 (ipykernel)",
   "language": "python",
   "name": "python3"
  },
  "language_info": {
   "codemirror_mode": {
    "name": "ipython",
    "version": 3
   },
   "file_extension": ".py",
   "mimetype": "text/x-python",
   "name": "python",
   "nbconvert_exporter": "python",
   "pygments_lexer": "ipython3",
   "version": "3.9.12"
  }
 },
 "nbformat": 4,
 "nbformat_minor": 5
}
